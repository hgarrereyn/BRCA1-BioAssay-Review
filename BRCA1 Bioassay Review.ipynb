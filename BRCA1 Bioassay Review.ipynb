{
 "cells": [
  {
   "cell_type": "markdown",
   "metadata": {},
   "source": [
    "# BRCA1 Expression Activation\n",
    "\n",
    "BRCA1 is a tumor supressant gene related to various forms of breast cancer. A small molecule drug that increases BRCA1 activation could reduce tumor growth or make tumors more responsive to treatment.\n",
    "\n",
    "This notebook reviews a BRCA1-expression bioassay and attempts to find small molecules that could be viable drug targets.\n",
    "\n",
    "Bioassay data was obtained from PubChem: [QHTS Assay To Identify Small Molecule Activators Of BRCA1 Expression](https://pubchem.ncbi.nlm.nih.gov/bioassay/624202)\n",
    "\n",
    "*Notebook created by Harrison Green*"
   ]
  },
  {
   "cell_type": "code",
   "execution_count": 1,
   "metadata": {},
   "outputs": [],
   "source": [
    "import pandas as pd\n",
    "import numpy as np\n",
    "import seaborn as sns\n",
    "import matplotlib.pyplot as plt\n",
    "%matplotlib inline"
   ]
  },
  {
   "cell_type": "code",
   "execution_count": 2,
   "metadata": {},
   "outputs": [],
   "source": [
    "from IPython.display import Image, HTML, display, SVG"
   ]
  },
  {
   "cell_type": "code",
   "execution_count": 3,
   "metadata": {},
   "outputs": [],
   "source": [
    "from rdkit import Chem\n",
    "from rdkit.Chem import rdFMCS, rdDepictor, Draw, AllChem\n",
    "from rdkit.Chem.Draw import rdMolDraw2D\n",
    "from rdkit.Chem.Draw import IPythonConsole"
   ]
  },
  {
   "cell_type": "code",
   "execution_count": 4,
   "metadata": {},
   "outputs": [],
   "source": [
    "import pubchempy as pcp"
   ]
  },
  {
   "cell_type": "code",
   "execution_count": 5,
   "metadata": {},
   "outputs": [],
   "source": [
    "from bs4 import BeautifulSoup\n",
    "import requests\n",
    "import lxml"
   ]
  },
  {
   "cell_type": "code",
   "execution_count": 6,
   "metadata": {},
   "outputs": [],
   "source": [
    "import time"
   ]
  },
  {
   "cell_type": "code",
   "execution_count": 7,
   "metadata": {},
   "outputs": [],
   "source": [
    "from tqdm import tqdm"
   ]
  },
  {
   "cell_type": "markdown",
   "metadata": {},
   "source": [
    "## BioAssay Data\n",
    "\n",
    "Read the bioassay data into a Pandas data frame so we can work with it. The first 5 rows (not including the header) are column descriptors so we can skip them."
   ]
  },
  {
   "cell_type": "code",
   "execution_count": 8,
   "metadata": {},
   "outputs": [
    {
     "data": {
      "text/html": [
       "<div>\n",
       "<style scoped>\n",
       "    .dataframe tbody tr th:only-of-type {\n",
       "        vertical-align: middle;\n",
       "    }\n",
       "\n",
       "    .dataframe tbody tr th {\n",
       "        vertical-align: top;\n",
       "    }\n",
       "\n",
       "    .dataframe thead th {\n",
       "        text-align: right;\n",
       "    }\n",
       "</style>\n",
       "<table border=\"1\" class=\"dataframe\">\n",
       "  <thead>\n",
       "    <tr style=\"text-align: right;\">\n",
       "      <th></th>\n",
       "      <th>cid</th>\n",
       "      <th>score</th>\n",
       "      <th>potency</th>\n",
       "      <th>efficacy</th>\n",
       "    </tr>\n",
       "  </thead>\n",
       "  <tbody>\n",
       "    <tr>\n",
       "      <th>0</th>\n",
       "      <td>644438</td>\n",
       "      <td>50</td>\n",
       "      <td>3.9811</td>\n",
       "      <td>223.335</td>\n",
       "    </tr>\n",
       "    <tr>\n",
       "      <th>1</th>\n",
       "      <td>644503</td>\n",
       "      <td>43</td>\n",
       "      <td>10.0000</td>\n",
       "      <td>100.714</td>\n",
       "    </tr>\n",
       "    <tr>\n",
       "      <th>2</th>\n",
       "      <td>645056</td>\n",
       "      <td>43</td>\n",
       "      <td>11.2202</td>\n",
       "      <td>143.083</td>\n",
       "    </tr>\n",
       "    <tr>\n",
       "      <th>3</th>\n",
       "      <td>645119</td>\n",
       "      <td>42</td>\n",
       "      <td>11.2202</td>\n",
       "      <td>103.173</td>\n",
       "    </tr>\n",
       "    <tr>\n",
       "      <th>4</th>\n",
       "      <td>645165</td>\n",
       "      <td>45</td>\n",
       "      <td>10.0000</td>\n",
       "      <td>185.571</td>\n",
       "    </tr>\n",
       "  </tbody>\n",
       "</table>\n",
       "</div>"
      ],
      "text/plain": [
       "      cid  score  potency  efficacy\n",
       "0  644438     50   3.9811   223.335\n",
       "1  644503     43  10.0000   100.714\n",
       "2  645056     43  11.2202   143.083\n",
       "3  645119     42  11.2202   103.173\n",
       "4  645165     45  10.0000   185.571"
      ]
     },
     "execution_count": 8,
     "metadata": {},
     "output_type": "execute_result"
    }
   ],
   "source": [
    "brca1_raw = pd.read_csv('data/AID_624202_datatable_active.csv', skiprows=[1,2,3,4,5])\n",
    "\n",
    "# fetch some useful columns and clean up\n",
    "brca1_all = brca1_raw[['PUBCHEM_CID', 'PUBCHEM_ACTIVITY_SCORE', 'Potency', 'Efficacy']]\n",
    "brca1_all.columns = ['cid','score','potency','efficacy']\n",
    "brca1_all.head()"
   ]
  },
  {
   "cell_type": "markdown",
   "metadata": {},
   "source": [
    "Let's plot the score distribution to see what we're dealing with."
   ]
  },
  {
   "cell_type": "code",
   "execution_count": 9,
   "metadata": {},
   "outputs": [
    {
     "data": {
      "text/plain": [
       "<matplotlib.axes._subplots.AxesSubplot at 0x10a824e50>"
      ]
     },
     "execution_count": 9,
     "metadata": {},
     "output_type": "execute_result"
    },
    {
     "data": {
      "image/png": "[encoded data removed]",
      "text/plain": [
       "<matplotlib.figure.Figure at 0x10a8240d0>"
      ]
     },
     "metadata": {},
     "output_type": "display_data"
    }
   ],
   "source": [
    "sns.distplot(brca1_all['score'])"
   ]
  },
  {
   "cell_type": "markdown",
   "metadata": {},
   "source": [
    "This BioAssay gives a molecule the \"active\" status if the score is between 40 and 100. However, there is a clear spike around the score minimum which indicates that some of the molecules assigned an \"active\" phenotype are really not doing much at all. We can just filter these out and plot again."
   ]
  },
  {
   "cell_type": "code",
   "execution_count": 10,
   "metadata": {},
   "outputs": [
    {
     "data": {
      "text/plain": [
       "<matplotlib.axes._subplots.AxesSubplot at 0x10a99af90>"
      ]
     },
     "execution_count": 10,
     "metadata": {},
     "output_type": "execute_result"
    },
    {
     "data": {
      "image/png": "[encoded data removed]",
      "text/plain": [
       "<matplotlib.figure.Figure at 0x10a770f50>"
      ]
     },
     "metadata": {},
     "output_type": "display_data"
    }
   ],
   "source": [
    "brca1_active = brca1_all[brca1_all['score'] > 60]\n",
    "sns.distplot(brca1_active['score'])"
   ]
  },
  {
   "cell_type": "markdown",
   "metadata": {},
   "source": [
    "This histogram looks more like what we would expect with a range of varying active molecules."
   ]
  },
  {
   "cell_type": "markdown",
   "metadata": {},
   "source": [
    "## Top Molecules\n",
    "\n",
    "Let's look at the top 10 molecules and their scores:"
   ]
  },
  {
   "cell_type": "code",
   "execution_count": 11,
   "metadata": {},
   "outputs": [
    {
     "data": {
      "text/html": [
       "<div>\n",
       "<style scoped>\n",
       "    .dataframe tbody tr th:only-of-type {\n",
       "        vertical-align: middle;\n",
       "    }\n",
       "\n",
       "    .dataframe tbody tr th {\n",
       "        vertical-align: top;\n",
       "    }\n",
       "\n",
       "    .dataframe thead th {\n",
       "        text-align: right;\n",
       "    }\n",
       "</style>\n",
       "<table border=\"1\" class=\"dataframe\">\n",
       "  <thead>\n",
       "    <tr style=\"text-align: right;\">\n",
       "      <th></th>\n",
       "      <th>cid</th>\n",
       "      <th>score</th>\n",
       "      <th>potency</th>\n",
       "      <th>efficacy</th>\n",
       "    </tr>\n",
       "  </thead>\n",
       "  <tbody>\n",
       "    <tr>\n",
       "      <th>2643</th>\n",
       "      <td>844224</td>\n",
       "      <td>100</td>\n",
       "      <td>0.8913</td>\n",
       "      <td>296.791</td>\n",
       "    </tr>\n",
       "    <tr>\n",
       "      <th>1645</th>\n",
       "      <td>15991406</td>\n",
       "      <td>100</td>\n",
       "      <td>0.8913</td>\n",
       "      <td>256.432</td>\n",
       "    </tr>\n",
       "    <tr>\n",
       "      <th>3782</th>\n",
       "      <td>990823</td>\n",
       "      <td>99</td>\n",
       "      <td>1.7783</td>\n",
       "      <td>310.519</td>\n",
       "    </tr>\n",
       "    <tr>\n",
       "      <th>2772</th>\n",
       "      <td>977500</td>\n",
       "      <td>99</td>\n",
       "      <td>1.1220</td>\n",
       "      <td>235.957</td>\n",
       "    </tr>\n",
       "    <tr>\n",
       "      <th>1639</th>\n",
       "      <td>15987509</td>\n",
       "      <td>98</td>\n",
       "      <td>0.8913</td>\n",
       "      <td>242.718</td>\n",
       "    </tr>\n",
       "    <tr>\n",
       "      <th>2107</th>\n",
       "      <td>2150868</td>\n",
       "      <td>98</td>\n",
       "      <td>0.7943</td>\n",
       "      <td>160.406</td>\n",
       "    </tr>\n",
       "    <tr>\n",
       "      <th>3301</th>\n",
       "      <td>5054584</td>\n",
       "      <td>98</td>\n",
       "      <td>1.2589</td>\n",
       "      <td>268.722</td>\n",
       "    </tr>\n",
       "    <tr>\n",
       "      <th>1646</th>\n",
       "      <td>15991408</td>\n",
       "      <td>98</td>\n",
       "      <td>2.2387</td>\n",
       "      <td>262.622</td>\n",
       "    </tr>\n",
       "    <tr>\n",
       "      <th>2258</th>\n",
       "      <td>2317127</td>\n",
       "      <td>98</td>\n",
       "      <td>3.1623</td>\n",
       "      <td>359.905</td>\n",
       "    </tr>\n",
       "    <tr>\n",
       "      <th>2005</th>\n",
       "      <td>9567025</td>\n",
       "      <td>97</td>\n",
       "      <td>1.1220</td>\n",
       "      <td>255.743</td>\n",
       "    </tr>\n",
       "  </tbody>\n",
       "</table>\n",
       "</div>"
      ],
      "text/plain": [
       "           cid  score  potency  efficacy\n",
       "2643    844224    100   0.8913   296.791\n",
       "1645  15991406    100   0.8913   256.432\n",
       "3782    990823     99   1.7783   310.519\n",
       "2772    977500     99   1.1220   235.957\n",
       "1639  15987509     98   0.8913   242.718\n",
       "2107   2150868     98   0.7943   160.406\n",
       "3301   5054584     98   1.2589   268.722\n",
       "1646  15991408     98   2.2387   262.622\n",
       "2258   2317127     98   3.1623   359.905\n",
       "2005   9567025     97   1.1220   255.743"
      ]
     },
     "execution_count": 11,
     "metadata": {},
     "output_type": "execute_result"
    }
   ],
   "source": [
    "brca1_active = brca1_active.sort_values(['score'],ascending=False)\n",
    "brca1_active.head(10)"
   ]
  },
  {
   "cell_type": "markdown",
   "metadata": {},
   "source": [
    "## More data from PubChem\n",
    "\n",
    "The cid doesn't mean much to us so let's get some more information.\n",
    "\n",
    "Using the PubChemPy library, we can lookup these molecules by cid and get some useful stats like the smiles string, molecular weight and number of hydrogen acceptors and donors.\n",
    "\n",
    "PubChem's usage policy requires that requests are rate limited to 5/second. So we will only fetch detailed information for the top 100 molecules.\n",
    "\n",
    "(This will take about a minute to fetch all the data)"
   ]
  },
  {
   "cell_type": "code",
   "execution_count": 12,
   "metadata": {},
   "outputs": [
    {
     "name": "stderr",
     "output_type": "stream",
     "text": [
      "PubChem data: 100%|██████████| 100/100 [01:14<00:00,  1.35it/s]\n"
     ]
    },
    {
     "data": {
      "text/html": [
       "<div>\n",
       "<style scoped>\n",
       "    .dataframe tbody tr th:only-of-type {\n",
       "        vertical-align: middle;\n",
       "    }\n",
       "\n",
       "    .dataframe tbody tr th {\n",
       "        vertical-align: top;\n",
       "    }\n",
       "\n",
       "    .dataframe thead th {\n",
       "        text-align: right;\n",
       "    }\n",
       "</style>\n",
       "<table border=\"1\" class=\"dataframe\">\n",
       "  <thead>\n",
       "    <tr style=\"text-align: right;\">\n",
       "      <th></th>\n",
       "      <th>cid</th>\n",
       "      <th>score</th>\n",
       "      <th>potency</th>\n",
       "      <th>efficacy</th>\n",
       "      <th>smiles</th>\n",
       "      <th>weight</th>\n",
       "      <th>h_acceptor</th>\n",
       "      <th>h_donor</th>\n",
       "      <th>xlogp</th>\n",
       "    </tr>\n",
       "  </thead>\n",
       "  <tbody>\n",
       "    <tr>\n",
       "      <th>2643</th>\n",
       "      <td>844224</td>\n",
       "      <td>100</td>\n",
       "      <td>0.8913</td>\n",
       "      <td>296.791</td>\n",
       "      <td>CC1=CC=C(O1)C(=O)NC2=NC3=C(S2)C=C(C=C3)Cl</td>\n",
       "      <td>292.737</td>\n",
       "      <td>4</td>\n",
       "      <td>1</td>\n",
       "      <td>4</td>\n",
       "    </tr>\n",
       "    <tr>\n",
       "      <th>1645</th>\n",
       "      <td>15991406</td>\n",
       "      <td>100</td>\n",
       "      <td>0.8913</td>\n",
       "      <td>256.432</td>\n",
       "      <td>C1=CC(=CC=C1CC2=CN3C=C(N=C3S2)C4=CC=C(C=C4)Cl)F</td>\n",
       "      <td>342.816</td>\n",
       "      <td>3</td>\n",
       "      <td>0</td>\n",
       "      <td>6.2</td>\n",
       "    </tr>\n",
       "    <tr>\n",
       "      <th>3782</th>\n",
       "      <td>990823</td>\n",
       "      <td>99</td>\n",
       "      <td>1.7783</td>\n",
       "      <td>310.519</td>\n",
       "      <td>C1CN(CCC1C(=O)N)C2=NC(=CS2)C3=CC=C(C=C3)Br</td>\n",
       "      <td>366.277</td>\n",
       "      <td>4</td>\n",
       "      <td>1</td>\n",
       "      <td>3.1</td>\n",
       "    </tr>\n",
       "    <tr>\n",
       "      <th>2772</th>\n",
       "      <td>977500</td>\n",
       "      <td>99</td>\n",
       "      <td>1.1220</td>\n",
       "      <td>235.957</td>\n",
       "      <td>COC1=CC=C(C=C1)NC(=O)NC(=O)C2=CC=CC=C2</td>\n",
       "      <td>270.288</td>\n",
       "      <td>3</td>\n",
       "      <td>2</td>\n",
       "      <td>3.4</td>\n",
       "    </tr>\n",
       "    <tr>\n",
       "      <th>1639</th>\n",
       "      <td>15987509</td>\n",
       "      <td>98</td>\n",
       "      <td>0.8913</td>\n",
       "      <td>242.718</td>\n",
       "      <td>CC1=CC=C(C=C1)OCC(=O)NC2=CC=C(C=C2)C3=NC4=C(O3...</td>\n",
       "      <td>372.424</td>\n",
       "      <td>4</td>\n",
       "      <td>1</td>\n",
       "      <td>5</td>\n",
       "    </tr>\n",
       "  </tbody>\n",
       "</table>\n",
       "</div>"
      ],
      "text/plain": [
       "           cid  score  potency  efficacy  \\\n",
       "2643    844224    100   0.8913   296.791   \n",
       "1645  15991406    100   0.8913   256.432   \n",
       "3782    990823     99   1.7783   310.519   \n",
       "2772    977500     99   1.1220   235.957   \n",
       "1639  15987509     98   0.8913   242.718   \n",
       "\n",
       "                                                 smiles   weight h_acceptor  \\\n",
       "2643          CC1=CC=C(O1)C(=O)NC2=NC3=C(S2)C=C(C=C3)Cl  292.737          4   \n",
       "1645    C1=CC(=CC=C1CC2=CN3C=C(N=C3S2)C4=CC=C(C=C4)Cl)F  342.816          3   \n",
       "3782         C1CN(CCC1C(=O)N)C2=NC(=CS2)C3=CC=C(C=C3)Br  366.277          4   \n",
       "2772             COC1=CC=C(C=C1)NC(=O)NC(=O)C2=CC=CC=C2  270.288          3   \n",
       "1639  CC1=CC=C(C=C1)OCC(=O)NC2=CC=C(C=C2)C3=NC4=C(O3...  372.424          4   \n",
       "\n",
       "     h_donor xlogp  \n",
       "2643       1     4  \n",
       "1645       0   6.2  \n",
       "3782       1   3.1  \n",
       "2772       2   3.4  \n",
       "1639       1     5  "
      ]
     },
     "execution_count": 12,
     "metadata": {},
     "output_type": "execute_result"
    }
   ],
   "source": [
    "brca1_top = brca1_active.iloc[:100]\n",
    "\n",
    "def fetch_info(cid):\n",
    "    c = pcp.Compound.from_cid(cid)\n",
    "    time.sleep(0.2) # rate limit requests\n",
    "    return [\n",
    "        c.canonical_smiles,\n",
    "        c.molecular_weight,\n",
    "        c.h_bond_acceptor_count,\n",
    "        c.h_bond_donor_count,\n",
    "        c.xlogp\n",
    "    ]\n",
    "\n",
    "brca1_pc = pd.DataFrame(columns=['smiles','weight','h_acceptor','h_donor','xlogp'])\n",
    "\n",
    "for idx, row in tqdm(brca1_top.iterrows(), desc=\"PubChem data\", total=100):\n",
    "    brca1_pc.loc[idx] = fetch_info(int(row['cid']))\n",
    "\n",
    "brca1_top_pc = brca1_top.join(brca1_pc)\n",
    "brca1_top_pc.head()"
   ]
  },
  {
   "cell_type": "markdown",
   "metadata": {},
   "source": [
    "## Visualizations with RDKit\n",
    "\n",
    "Let's display the 2D molecular structure of the top 100 compounds using rdkit and some html."
   ]
  },
  {
   "cell_type": "code",
   "execution_count": 13,
   "metadata": {},
   "outputs": [],
   "source": [
    "def display_molecules(df, width='10%', scale='2'):\n",
    "    def get_mol(df):\n",
    "        return Chem.MolFromSmiles(df['smiles'])\n",
    "\n",
    "    def get_legend(df):\n",
    "        return str(df['score'])\n",
    "\n",
    "    def write_svg_image(mol, fpath):\n",
    "        drawer = rdMolDraw2D.MolDraw2DSVG(400,400)\n",
    "        rdDepictor.Compute2DCoords(mol)\n",
    "        drawer.DrawMolecule(mol)\n",
    "        drawer.FinishDrawing()\n",
    "        svg = drawer.GetDrawingText()\n",
    "\n",
    "        open(fpath, 'w').write(svg)\n",
    "\n",
    "    s = \"\"\n",
    "\n",
    "    for idx, row in df.iterrows():\n",
    "        mol = Chem.MolFromSmiles(row['smiles'])\n",
    "        fpath = 'img/render_%d.svg' % row['cid']\n",
    "        write_svg_image(mol, fpath)\n",
    "\n",
    "        s += \"<img class='zoom1' style='width:%s;display:inline-block;' src='%s'/>\" % (width, fpath)\n",
    "\n",
    "    s += \"\"\"\n",
    "    <style>\n",
    "    .zoom1 {\n",
    "        transition: all 0.3s;\n",
    "        border: 1px solid #fff;\n",
    "    }\n",
    "    .zoom1:hover {\n",
    "        transform:scale(%s);\n",
    "        border-color: #aaa;\n",
    "    }\n",
    "    </style>\n",
    "    \"\"\" % scale\n",
    "\n",
    "    display(HTML(s))"
   ]
  },
  {
   "cell_type": "code",
   "execution_count": 14,
   "metadata": {},
   "outputs": [
    {
     "data": {
      "text/html": [
       "<img class='zoom1' style='width:10%;display:inline-block;' src='img/render_844224.svg'/><img class='zoom1' style='width:10%;display:inline-block;' src='img/render_15991406.svg'/><img class='zoom1' style='width:10%;display:inline-block;' src='img/render_990823.svg'/><img class='zoom1' style='width:10%;display:inline-block;' src='img/render_977500.svg'/><img class='zoom1' style='width:10%;display:inline-block;' src='img/render_15987509.svg'/><img class='zoom1' style='width:10%;display:inline-block;' src='img/render_2150868.svg'/><img class='zoom1' style='width:10%;display:inline-block;' src='img/render_5054584.svg'/><img class='zoom1' style='width:10%;display:inline-block;' src='img/render_15991408.svg'/><img class='zoom1' style='width:10%;display:inline-block;' src='img/render_2317127.svg'/><img class='zoom1' style='width:10%;display:inline-block;' src='img/render_9567025.svg'/><img class='zoom1' style='width:10%;display:inline-block;' src='img/render_2940041.svg'/><img class='zoom1' style='width:10%;display:inline-block;' src='img/render_3128535.svg'/><img class='zoom1' style='width:10%;display:inline-block;' src='img/render_990380.svg'/><img class='zoom1' style='width:10%;display:inline-block;' src='img/render_6467995.svg'/><img class='zoom1' style='width:10%;display:inline-block;' src='img/render_24790967.svg'/><img class='zoom1' style='width:10%;display:inline-block;' src='img/render_4906222.svg'/><img class='zoom1' style='width:10%;display:inline-block;' src='img/render_16066614.svg'/><img class='zoom1' style='width:10%;display:inline-block;' src='img/render_2118395.svg'/><img class='zoom1' style='width:10%;display:inline-block;' src='img/render_2478156.svg'/><img class='zoom1' style='width:10%;display:inline-block;' src='img/render_44475983.svg'/><img class='zoom1' style='width:10%;display:inline-block;' src='img/render_804039.svg'/><img class='zoom1' style='width:10%;display:inline-block;' src='img/render_1905664.svg'/><img class='zoom1' style='width:10%;display:inline-block;' src='img/render_3244649.svg'/><img class='zoom1' style='width:10%;display:inline-block;' src='img/render_22581682.svg'/><img class='zoom1' style='width:10%;display:inline-block;' src='img/render_6468993.svg'/><img class='zoom1' style='width:10%;display:inline-block;' src='img/render_251641.svg'/><img class='zoom1' style='width:10%;display:inline-block;' src='img/render_2115913.svg'/><img class='zoom1' style='width:10%;display:inline-block;' src='img/render_944643.svg'/><img class='zoom1' style='width:10%;display:inline-block;' src='img/render_2907426.svg'/><img class='zoom1' style='width:10%;display:inline-block;' src='img/render_829850.svg'/><img class='zoom1' style='width:10%;display:inline-block;' src='img/render_2813569.svg'/><img class='zoom1' style='width:10%;display:inline-block;' src='img/render_16103793.svg'/><img class='zoom1' style='width:10%;display:inline-block;' src='img/render_604596.svg'/><img class='zoom1' style='width:10%;display:inline-block;' src='img/render_2102875.svg'/><img class='zoom1' style='width:10%;display:inline-block;' src='img/render_647044.svg'/><img class='zoom1' style='width:10%;display:inline-block;' src='img/render_2999803.svg'/><img class='zoom1' style='width:10%;display:inline-block;' src='img/render_555490.svg'/><img class='zoom1' style='width:10%;display:inline-block;' src='img/render_7205978.svg'/><img class='zoom1' style='width:10%;display:inline-block;' src='img/render_843396.svg'/><img class='zoom1' style='width:10%;display:inline-block;' src='img/render_3144221.svg'/><img class='zoom1' style='width:10%;display:inline-block;' src='img/render_24820069.svg'/><img class='zoom1' style='width:10%;display:inline-block;' src='img/render_9516.svg'/><img class='zoom1' style='width:10%;display:inline-block;' src='img/render_9605628.svg'/><img class='zoom1' style='width:10%;display:inline-block;' src='img/render_1367387.svg'/><img class='zoom1' style='width:10%;display:inline-block;' src='img/render_9329256.svg'/><img class='zoom1' style='width:10%;display:inline-block;' src='img/render_2447522.svg'/><img class='zoom1' style='width:10%;display:inline-block;' src='img/render_3525081.svg'/><img class='zoom1' style='width:10%;display:inline-block;' src='img/render_603324.svg'/><img class='zoom1' style='width:10%;display:inline-block;' src='img/render_75522.svg'/><img class='zoom1' style='width:10%;display:inline-block;' src='img/render_9567292.svg'/><img class='zoom1' style='width:10%;display:inline-block;' src='img/render_754908.svg'/><img class='zoom1' style='width:10%;display:inline-block;' src='img/render_2223231.svg'/><img class='zoom1' style='width:10%;display:inline-block;' src='img/render_5173595.svg'/><img class='zoom1' style='width:10%;display:inline-block;' src='img/render_3527790.svg'/><img class='zoom1' style='width:10%;display:inline-block;' src='img/render_6100060.svg'/><img class='zoom1' style='width:10%;display:inline-block;' src='img/render_4042008.svg'/><img class='zoom1' style='width:10%;display:inline-block;' src='img/render_65182.svg'/><img class='zoom1' style='width:10%;display:inline-block;' src='img/render_740785.svg'/><img class='zoom1' style='width:10%;display:inline-block;' src='img/render_721034.svg'/><img class='zoom1' style='width:10%;display:inline-block;' src='img/render_885337.svg'/><img class='zoom1' style='width:10%;display:inline-block;' src='img/render_1009261.svg'/><img class='zoom1' style='width:10%;display:inline-block;' src='img/render_2333953.svg'/><img class='zoom1' style='width:10%;display:inline-block;' src='img/render_16682637.svg'/><img class='zoom1' style='width:10%;display:inline-block;' src='img/render_5106913.svg'/><img class='zoom1' style='width:10%;display:inline-block;' src='img/render_12515961.svg'/><img class='zoom1' style='width:10%;display:inline-block;' src='img/render_975008.svg'/><img class='zoom1' style='width:10%;display:inline-block;' src='img/render_958680.svg'/><img class='zoom1' style='width:10%;display:inline-block;' src='img/render_341156.svg'/><img class='zoom1' style='width:10%;display:inline-block;' src='img/render_3241419.svg'/><img class='zoom1' style='width:10%;display:inline-block;' src='img/render_4201998.svg'/><img class='zoom1' style='width:10%;display:inline-block;' src='img/render_5903277.svg'/><img class='zoom1' style='width:10%;display:inline-block;' src='img/render_2812969.svg'/><img class='zoom1' style='width:10%;display:inline-block;' src='img/render_16745782.svg'/><img class='zoom1' style='width:10%;display:inline-block;' src='img/render_2110942.svg'/><img class='zoom1' style='width:10%;display:inline-block;' src='img/render_2324886.svg'/><img class='zoom1' style='width:10%;display:inline-block;' src='img/render_2888227.svg'/><img class='zoom1' style='width:10%;display:inline-block;' src='img/render_5152621.svg'/><img class='zoom1' style='width:10%;display:inline-block;' src='img/render_17253146.svg'/><img class='zoom1' style='width:10%;display:inline-block;' src='img/render_9580697.svg'/><img class='zoom1' style='width:10%;display:inline-block;' src='img/render_1855553.svg'/><img class='zoom1' style='width:10%;display:inline-block;' src='img/render_1259542.svg'/><img class='zoom1' style='width:10%;display:inline-block;' src='img/render_5336820.svg'/><img class='zoom1' style='width:10%;display:inline-block;' src='img/render_2815883.svg'/><img class='zoom1' style='width:10%;display:inline-block;' src='img/render_725817.svg'/><img class='zoom1' style='width:10%;display:inline-block;' src='img/render_16398538.svg'/><img class='zoom1' style='width:10%;display:inline-block;' src='img/render_1325823.svg'/><img class='zoom1' style='width:10%;display:inline-block;' src='img/render_268099.svg'/><img class='zoom1' style='width:10%;display:inline-block;' src='img/render_659828.svg'/><img class='zoom1' style='width:10%;display:inline-block;' src='img/render_1366257.svg'/><img class='zoom1' style='width:10%;display:inline-block;' src='img/render_2113176.svg'/><img class='zoom1' style='width:10%;display:inline-block;' src='img/render_49789438.svg'/><img class='zoom1' style='width:10%;display:inline-block;' src='img/render_49790479.svg'/><img class='zoom1' style='width:10%;display:inline-block;' src='img/render_1093410.svg'/><img class='zoom1' style='width:10%;display:inline-block;' src='img/render_2966237.svg'/><img class='zoom1' style='width:10%;display:inline-block;' src='img/render_5340604.svg'/><img class='zoom1' style='width:10%;display:inline-block;' src='img/render_5971819.svg'/><img class='zoom1' style='width:10%;display:inline-block;' src='img/render_4093356.svg'/><img class='zoom1' style='width:10%;display:inline-block;' src='img/render_2188596.svg'/><img class='zoom1' style='width:10%;display:inline-block;' src='img/render_1474957.svg'/><img class='zoom1' style='width:10%;display:inline-block;' src='img/render_678808.svg'/>\n",
       "    <style>\n",
       "    .zoom1 {\n",
       "        transition: all 0.3s;\n",
       "        border: 1px solid #fff;\n",
       "    }\n",
       "    .zoom1:hover {\n",
       "        transform:scale(2);\n",
       "        border-color: #aaa;\n",
       "    }\n",
       "    </style>\n",
       "    "
      ],
      "text/plain": [
       "<IPython.core.display.HTML object>"
      ]
     },
     "metadata": {},
     "output_type": "display_data"
    }
   ],
   "source": [
    "display_molecules(brca1_top_pc)"
   ]
  },
  {
   "cell_type": "markdown",
   "metadata": {},
   "source": [
    "## Known Protein Targets\n",
    "\n",
    "In order to make sure that the small molecules here have no known protein target, we can search various compound databases such as BindingDB.\n",
    "\n",
    "Specifically, BindingDB provides an api that allows us to search by a SMILES string and similarity coefficient. We will search for known targets for all 100 of our top molecules and store the top 5 most similar molecules with known targets (if any exist).\n",
    "\n",
    "This method will allow us to filter out molecules that have known targets or molecules that are very similar to molecules with known targets.\n",
    "\n",
    "We will also keep track of some metadata such as:\n",
    "* number of hits in BindingDB (not necessarily exact matches)\n",
    "* number of known targets (count where `tanimoto == 1`)\n",
    "* max tanimoto (max of `tanimoto`)\n",
    "* number of known human targets (count where `species == human`, `tanimoto == 1`)\n",
    "* max tanimoto for human targets (max of `tanimoto` where `species == human`)"
   ]
  },
  {
   "cell_type": "code",
   "execution_count": 15,
   "metadata": {},
   "outputs": [],
   "source": [
    "bindingDB_endpoint = \"http://www.bindingdb.org/axis2/services/BDBService/getTargetByCompound\"\n",
    "\n",
    "def search_targets(smiles):\n",
    "    params = {\n",
    "        'smiles': smiles,\n",
    "        'cutoff': 0.85\n",
    "    }\n",
    "    \n",
    "    r = requests.get(bindingDB_endpoint, params=params)\n",
    "    b = BeautifulSoup(r.text, 'xml')\n",
    "    \n",
    "    meta_err = [-1,-1,-1,-1,-1] + ([''] * 20)\n",
    "    \n",
    "    # number of hits\n",
    "    num_hits = int(b.find('bdb:hit').string)\n",
    "    if num_hits == 0:\n",
    "        return [0,0,0,0,0] + ([''] * 20)\n",
    "    \n",
    "    # catch parsing errors\n",
    "    try:\n",
    "        # enumerate hits\n",
    "        hits = b.find_all('bdb:affinities')\n",
    "\n",
    "        targets = pd.DataFrame()\n",
    "\n",
    "        for h in hits:\n",
    "            ht = [[\n",
    "                h.find('bdb:monomerid').string,\n",
    "                h.find('bdb:target').string,\n",
    "                h.find('bdb:species').string,\n",
    "                h.find('bdb:affinity_type').string,\n",
    "                h.find('bdb:affinity').string,\n",
    "                h.find('bdb:smiles').string,\n",
    "                float(h.find('bdb:tanimoto').string)\n",
    "            ]]\n",
    "            targets = targets.append(ht)\n",
    "\n",
    "        targets.columns = ['monomerid','target','species','affinity_type','affinity','smiles','tanimoto']\n",
    "\n",
    "        targets['is_human'] = targets['species'].apply(lambda k: 'Homo sapiens' in k)\n",
    "        \n",
    "        targets = targets.sort_values(['tanimoto', 'is_human'], ascending=[0,0])\n",
    "\n",
    "        # pick the top 5 targets (by tanimoto coefficient) and consolidate\n",
    "        sp_targets = targets.apply(lambda t: pd.Series([t['target'], t['smiles'], t['tanimoto'], t['species']]), axis=1)\n",
    "        sp_targets = sp_targets.iloc[:5]\n",
    "        \n",
    "        sp_list = list(sp_targets.values.flatten())\n",
    "        sp_list += ([''] * (20 - len(sp_list))) # pad with empty strings if fewer than 5 targets found\n",
    "\n",
    "        # generate ligands\n",
    "        \n",
    "        meta = [\n",
    "            num_hits,\n",
    "            sum(targets['tanimoto'] == 1),\n",
    "            max(targets['tanimoto']),\n",
    "            sum(targets['is_human'] & (targets['tanimoto'] == 1)),\n",
    "            max(targets[targets['is_human']]['tanimoto']) if sum(targets['is_human']) > 0 else 0\n",
    "        ]\n",
    "        \n",
    "        meta += sp_list\n",
    "        \n",
    "        return meta\n",
    "    except Exception as e:\n",
    "        import traceback\n",
    "        traceback.print_exc()\n",
    "        return meta_err"
   ]
  },
  {
   "cell_type": "markdown",
   "metadata": {},
   "source": [
    "This will take about 5 minutes to run:"
   ]
  },
  {
   "cell_type": "code",
   "execution_count": 16,
   "metadata": {},
   "outputs": [
    {
     "name": "stderr",
     "output_type": "stream",
     "text": [
      "BindingDB data: 100%|██████████| 100/100 [06:03<00:00,  3.64s/it]\n"
     ]
    },
    {
     "data": {
      "text/html": [
       "<div>\n",
       "<style scoped>\n",
       "    .dataframe tbody tr th:only-of-type {\n",
       "        vertical-align: middle;\n",
       "    }\n",
       "\n",
       "    .dataframe tbody tr th {\n",
       "        vertical-align: top;\n",
       "    }\n",
       "\n",
       "    .dataframe thead th {\n",
       "        text-align: right;\n",
       "    }\n",
       "</style>\n",
       "<table border=\"1\" class=\"dataframe\">\n",
       "  <thead>\n",
       "    <tr style=\"text-align: right;\">\n",
       "      <th></th>\n",
       "      <th>cid</th>\n",
       "      <th>score</th>\n",
       "      <th>potency</th>\n",
       "      <th>efficacy</th>\n",
       "      <th>smiles</th>\n",
       "      <th>weight</th>\n",
       "      <th>h_acceptor</th>\n",
       "      <th>h_donor</th>\n",
       "      <th>xlogp</th>\n",
       "      <th>num_hits</th>\n",
       "      <th>...</th>\n",
       "      <th>t_tanimoto_3</th>\n",
       "      <th>t_species_3</th>\n",
       "      <th>t_target_4</th>\n",
       "      <th>t_ligand_4</th>\n",
       "      <th>t_tanimoto_4</th>\n",
       "      <th>t_species_4</th>\n",
       "      <th>t_target_5</th>\n",
       "      <th>t_ligand_5</th>\n",
       "      <th>t_tanimoto_5</th>\n",
       "      <th>t_species_5</th>\n",
       "    </tr>\n",
       "  </thead>\n",
       "  <tbody>\n",
       "    <tr>\n",
       "      <th>2643</th>\n",
       "      <td>844224</td>\n",
       "      <td>100</td>\n",
       "      <td>0.8913</td>\n",
       "      <td>296.791</td>\n",
       "      <td>CC1=CC=C(O1)C(=O)NC2=NC3=C(S2)C=C(C=C3)Cl</td>\n",
       "      <td>292.737</td>\n",
       "      <td>4</td>\n",
       "      <td>1</td>\n",
       "      <td>4</td>\n",
       "      <td>12</td>\n",
       "      <td>...</td>\n",
       "      <td>1</td>\n",
       "      <td>Homo sapiens</td>\n",
       "      <td>SUMO/sentrin specific peptidase family member 8</td>\n",
       "      <td>Clc1ccc2nc(NC(=O)c3ccco3)sc2c1</td>\n",
       "      <td>0.94361</td>\n",
       "      <td>Homo sapiens</td>\n",
       "      <td>Nuclear factor NF-kappa-B</td>\n",
       "      <td>Clc1ccc2nc(NC(=O)c3ccco3)sc2c1</td>\n",
       "      <td>0.94361</td>\n",
       "      <td>Homo sapiens (Human)</td>\n",
       "    </tr>\n",
       "    <tr>\n",
       "      <th>1645</th>\n",
       "      <td>15991406</td>\n",
       "      <td>100</td>\n",
       "      <td>0.8913</td>\n",
       "      <td>256.432</td>\n",
       "      <td>C1=CC(=CC=C1CC2=CN3C=C(N=C3S2)C4=CC=C(C=C4)Cl)F</td>\n",
       "      <td>342.816</td>\n",
       "      <td>3</td>\n",
       "      <td>0</td>\n",
       "      <td>6.2</td>\n",
       "      <td>0</td>\n",
       "      <td>...</td>\n",
       "      <td></td>\n",
       "      <td></td>\n",
       "      <td></td>\n",
       "      <td></td>\n",
       "      <td></td>\n",
       "      <td></td>\n",
       "      <td></td>\n",
       "      <td></td>\n",
       "      <td></td>\n",
       "      <td></td>\n",
       "    </tr>\n",
       "    <tr>\n",
       "      <th>3782</th>\n",
       "      <td>990823</td>\n",
       "      <td>99</td>\n",
       "      <td>1.7783</td>\n",
       "      <td>310.519</td>\n",
       "      <td>C1CN(CCC1C(=O)N)C2=NC(=CS2)C3=CC=C(C=C3)Br</td>\n",
       "      <td>366.277</td>\n",
       "      <td>4</td>\n",
       "      <td>1</td>\n",
       "      <td>3.1</td>\n",
       "      <td>4</td>\n",
       "      <td>...</td>\n",
       "      <td>0.88496</td>\n",
       "      <td>Mus musculus</td>\n",
       "      <td>Zinc finger protein GLI1</td>\n",
       "      <td>Brc1ccc(cc1)-c1csc(n1)N1CCCCCC1</td>\n",
       "      <td>0.88496</td>\n",
       "      <td>Mus musculus</td>\n",
       "      <td></td>\n",
       "      <td></td>\n",
       "      <td></td>\n",
       "      <td></td>\n",
       "    </tr>\n",
       "    <tr>\n",
       "      <th>2772</th>\n",
       "      <td>977500</td>\n",
       "      <td>99</td>\n",
       "      <td>1.1220</td>\n",
       "      <td>235.957</td>\n",
       "      <td>COC1=CC=C(C=C1)NC(=O)NC(=O)C2=CC=CC=C2</td>\n",
       "      <td>270.288</td>\n",
       "      <td>3</td>\n",
       "      <td>2</td>\n",
       "      <td>3.4</td>\n",
       "      <td>2</td>\n",
       "      <td>...</td>\n",
       "      <td></td>\n",
       "      <td></td>\n",
       "      <td></td>\n",
       "      <td></td>\n",
       "      <td></td>\n",
       "      <td></td>\n",
       "      <td></td>\n",
       "      <td></td>\n",
       "      <td></td>\n",
       "      <td></td>\n",
       "    </tr>\n",
       "    <tr>\n",
       "      <th>1639</th>\n",
       "      <td>15987509</td>\n",
       "      <td>98</td>\n",
       "      <td>0.8913</td>\n",
       "      <td>242.718</td>\n",
       "      <td>CC1=CC=C(C=C1)OCC(=O)NC2=CC=C(C=C2)C3=NC4=C(O3...</td>\n",
       "      <td>372.424</td>\n",
       "      <td>4</td>\n",
       "      <td>1</td>\n",
       "      <td>5</td>\n",
       "      <td>50</td>\n",
       "      <td>...</td>\n",
       "      <td>0.87085</td>\n",
       "      <td>Homo sapiens (Human)</td>\n",
       "      <td>Cholesteryl ester transfer protein</td>\n",
       "      <td>COc1ccc2nc(oc2c1)-c1ccc(NC(=O)COc2ccccc2C)cc1</td>\n",
       "      <td>0.86545</td>\n",
       "      <td>Homo sapiens (Human)</td>\n",
       "      <td>Cholesteryl ester transfer protein</td>\n",
       "      <td>Cc1ccc(OCC(=O)Nc2ccc(cc2)-c2nc3cc(C)cc(C)c3o2)cc1</td>\n",
       "      <td>0.86022</td>\n",
       "      <td>Homo sapiens (Human)</td>\n",
       "    </tr>\n",
       "  </tbody>\n",
       "</table>\n",
       "<p>5 rows × 34 columns</p>\n",
       "</div>"
      ],
      "text/plain": [
       "           cid  score  potency  efficacy  \\\n",
       "2643    844224    100   0.8913   296.791   \n",
       "1645  15991406    100   0.8913   256.432   \n",
       "3782    990823     99   1.7783   310.519   \n",
       "2772    977500     99   1.1220   235.957   \n",
       "1639  15987509     98   0.8913   242.718   \n",
       "\n",
       "                                                 smiles   weight h_acceptor  \\\n",
       "2643          CC1=CC=C(O1)C(=O)NC2=NC3=C(S2)C=C(C=C3)Cl  292.737          4   \n",
       "1645    C1=CC(=CC=C1CC2=CN3C=C(N=C3S2)C4=CC=C(C=C4)Cl)F  342.816          3   \n",
       "3782         C1CN(CCC1C(=O)N)C2=NC(=CS2)C3=CC=C(C=C3)Br  366.277          4   \n",
       "2772             COC1=CC=C(C=C1)NC(=O)NC(=O)C2=CC=CC=C2  270.288          3   \n",
       "1639  CC1=CC=C(C=C1)OCC(=O)NC2=CC=C(C=C2)C3=NC4=C(O3...  372.424          4   \n",
       "\n",
       "     h_donor xlogp num_hits          ...          t_tanimoto_3  \\\n",
       "2643       1     4       12          ...                     1   \n",
       "1645       0   6.2        0          ...                         \n",
       "3782       1   3.1        4          ...               0.88496   \n",
       "2772       2   3.4        2          ...                         \n",
       "1639       1     5       50          ...               0.87085   \n",
       "\n",
       "               t_species_3                                       t_target_4  \\\n",
       "2643          Homo sapiens  SUMO/sentrin specific peptidase family member 8   \n",
       "1645                                                                          \n",
       "3782          Mus musculus                         Zinc finger protein GLI1   \n",
       "2772                                                                          \n",
       "1639  Homo sapiens (Human)               Cholesteryl ester transfer protein   \n",
       "\n",
       "                                         t_ligand_4 t_tanimoto_4  \\\n",
       "2643                 Clc1ccc2nc(NC(=O)c3ccco3)sc2c1      0.94361   \n",
       "1645                                                               \n",
       "3782                Brc1ccc(cc1)-c1csc(n1)N1CCCCCC1      0.88496   \n",
       "2772                                                               \n",
       "1639  COc1ccc2nc(oc2c1)-c1ccc(NC(=O)COc2ccccc2C)cc1      0.86545   \n",
       "\n",
       "               t_species_4                          t_target_5  \\\n",
       "2643          Homo sapiens           Nuclear factor NF-kappa-B   \n",
       "1645                                                             \n",
       "3782          Mus musculus                                       \n",
       "2772                                                             \n",
       "1639  Homo sapiens (Human)  Cholesteryl ester transfer protein   \n",
       "\n",
       "                                             t_ligand_5 t_tanimoto_5  \\\n",
       "2643                     Clc1ccc2nc(NC(=O)c3ccco3)sc2c1      0.94361   \n",
       "1645                                                                   \n",
       "3782                                                                   \n",
       "2772                                                                   \n",
       "1639  Cc1ccc(OCC(=O)Nc2ccc(cc2)-c2nc3cc(C)cc(C)c3o2)cc1      0.86022   \n",
       "\n",
       "               t_species_5  \n",
       "2643  Homo sapiens (Human)  \n",
       "1645                        \n",
       "3782                        \n",
       "2772                        \n",
       "1639  Homo sapiens (Human)  \n",
       "\n",
       "[5 rows x 34 columns]"
      ]
     },
     "execution_count": 16,
     "metadata": {},
     "output_type": "execute_result"
    }
   ],
   "source": [
    "meta = pd.DataFrame(columns=[\n",
    "    'num_hits',\n",
    "    'exact_targets',\n",
    "    'closest_target',\n",
    "    'exact_targets_human',\n",
    "    'closest_target_human',\n",
    "    't_target_1', # name of target\n",
    "    't_ligand_1', # smiles string of ligand\n",
    "    't_tanimoto_1', # tanimoto coefficient of this ligand with respect to the molecule\n",
    "    't_species_1', # species in which the target exists\n",
    "    't_target_2',\n",
    "    't_ligand_2',\n",
    "    't_tanimoto_2',\n",
    "    't_species_2',\n",
    "    't_target_3',\n",
    "    't_ligand_3',\n",
    "    't_tanimoto_3',\n",
    "    't_species_3',\n",
    "    't_target_4',\n",
    "    't_ligand_4',\n",
    "    't_tanimoto_4',\n",
    "    't_species_4',\n",
    "    't_target_5',\n",
    "    't_ligand_5',\n",
    "    't_tanimoto_5',\n",
    "    't_species_5'\n",
    "])\n",
    "\n",
    "for idx, row in tqdm(brca1_top_pc.iterrows(), desc=\"BindingDB data\", total=100):\n",
    "    meta.loc[idx] = search_targets(row['smiles'])\n",
    "\n",
    "brca1_top_binding = brca1_top_pc.join(meta)\n",
    "brca1_top_binding.head()"
   ]
  },
  {
   "cell_type": "markdown",
   "metadata": {},
   "source": [
    "## Similar targets\n",
    "\n",
    "Now that we have some information about which compounds/species certain molecules will target, we can display the top 100 molecules along with some information about related molecules with known targets.\n",
    "\n",
    "Additionally, we can use RDKit to compute the MCS (maximum common substructure) and then highlight it in order to provide an indication of the similarities between our small molecule and ligands with known targets."
   ]
  },
  {
   "cell_type": "code",
   "execution_count": 17,
   "metadata": {
    "scrolled": false
   },
   "outputs": [
    {
     "data": {
      "text/html": [
       "<table style='border: 3px solid #aaa;'><tr><td style='border-bottom: 3px solid #aaa; text-align:center;' colspan=2><h2>Compound</h2></td><td style='border-bottom: 3px solid #aaa; text-align:center;' colspan=5><h2>Ligands</h2></td></tr><tr><td><h2>0</h2></td><td style='border-right:3px solid #aaa;vertical-align:top;'><img class='zoom2' src='img/render_844224_0.svg'></img><p style='text-align:left;'><b>844224</b></p><p style='text-align:left;'>Score: <b>100</b></p><p style='text-align:left;'>Potency: <b>0.89</b></p><p style='text-align:left;'>Efficacy: <b>296.79</b></p><p style='text-align:left;'>Weight: <b>292.74</b></p><p style='text-align:left;'>H-Acceptors: <b>4</b></p><p style='text-align:left;'>H-Donors: <b>1</b></p></td><td style='vertical-align:top;'><img class='zoom2' src='img/render_844224_1.svg'></img><p style='text-align:left;'>Similarity: <b>1.0</b></p><p style='text-align:left;'>Target: <b>SUMO-1-specific protease</b></p><p style='text-align:left;'>Ligands: <b>Homo sapiens</b></p></td><td style='vertical-align:top;'><img class='zoom2' src='img/render_844224_2.svg'></img><p style='text-align:left;'>Similarity: <b>1.0</b></p><p style='text-align:left;'>Target: <b>Caspase-3</b></p><p style='text-align:left;'>Ligands: <b>Homo sapiens (human)</b></p></td><td style='vertical-align:top;'><img class='zoom2' src='img/render_844224_3.svg'></img><p style='text-align:left;'>Similarity: <b>1.0</b></p><p style='text-align:left;'>Target: <b>SUMO/sentrin specific peptidase family member 8</b></p><p style='text-align:left;'>Ligands: <b>Homo sapiens</b></p></td><td style='vertical-align:top;'><img class='zoom2' src='img/render_844224_4.svg'></img><p style='text-align:left;'>Similarity: <b>0.94361</b></p><p style='text-align:left;'>Target: <b>SUMO/sentrin specific peptidase family member 8</b></p><p style='text-align:left;'>Ligands: <b>Homo sapiens</b></p></td><td style='vertical-align:top;'><img class='zoom2' src='img/render_844224_5.svg'></img><p style='text-align:left;'>Similarity: <b>0.94361</b></p><p style='text-align:left;'>Target: <b>Nuclear factor NF-kappa-B</b></p><p style='text-align:left;'>Ligands: <b>Homo sapiens (Human)</b></p></td></tr><tr><td><h2>1</h2></td><td style='border-right:3px solid #aaa;vertical-align:top;'><img class='zoom2' src='img/render_15991406_0.svg'></img><p style='text-align:left;'><b>15991406</b></p><p style='text-align:left;'>Score: <b>100</b></p><p style='text-align:left;'>Potency: <b>0.89</b></p><p style='text-align:left;'>Efficacy: <b>256.43</b></p><p style='text-align:left;'>Weight: <b>342.82</b></p><p style='text-align:left;'>H-Acceptors: <b>3</b></p><p style='text-align:left;'>H-Donors: <b>0</b></p></td><td><h3 style='text-align:left;'>No targets found</h3></td><td></td><td></td><td></td><td></td></tr><tr><td><h2>2</h2></td><td style='border-right:3px solid #aaa;vertical-align:top;'><img class='zoom2' src='img/render_990823_0.svg'></img><p style='text-align:left;'><b>990823</b></p><p style='text-align:left;'>Score: <b>99</b></p><p style='text-align:left;'>Potency: <b>1.78</b></p><p style='text-align:left;'>Efficacy: <b>310.52</b></p><p style='text-align:left;'>Weight: <b>366.28</b></p><p style='text-align:left;'>H-Acceptors: <b>4</b></p><p style='text-align:left;'>H-Donors: <b>1</b></p></td><td style='vertical-align:top;'><img class='zoom2' src='img/render_990823_1.svg'></img><p style='text-align:left;'>Similarity: <b>0.92704</b></p><p style='text-align:left;'>Target: <b>Luciferase</b></p><p style='text-align:left;'>Ligands: <b>Luciola lateralis</b></p></td><td style='vertical-align:top;'><img class='zoom2' src='img/render_990823_2.svg'></img><p style='text-align:left;'>Similarity: <b>0.90984</b></p><p style='text-align:left;'>Target: <b>Estrogen receptor</b></p><p style='text-align:left;'>Ligands: <b>Homo sapiens (human)</b></p></td><td style='vertical-align:top;'><img class='zoom2' src='img/render_990823_3.svg'></img><p style='text-align:left;'>Similarity: <b>0.88496</b></p><p style='text-align:left;'>Target: <b>Protein Wnt-3a</b></p><p style='text-align:left;'>Ligands: <b>Mus musculus</b></p></td><td style='vertical-align:top;'><img class='zoom2' src='img/render_990823_4.svg'></img><p style='text-align:left;'>Similarity: <b>0.88496</b></p><p style='text-align:left;'>Target: <b>Zinc finger protein GLI1</b></p><p style='text-align:left;'>Ligands: <b>Mus musculus</b></p></td><td></td></tr><tr><td><h2>3</h2></td><td style='border-right:3px solid #aaa;vertical-align:top;'><img class='zoom2' src='img/render_977500_0.svg'></img><p style='text-align:left;'><b>977500</b></p><p style='text-align:left;'>Score: <b>99</b></p><p style='text-align:left;'>Potency: <b>1.12</b></p><p style='text-align:left;'>Efficacy: <b>235.96</b></p><p style='text-align:left;'>Weight: <b>270.29</b></p><p style='text-align:left;'>H-Acceptors: <b>3</b></p><p style='text-align:left;'>H-Donors: <b>2</b></p></td><td style='vertical-align:top;'><img class='zoom2' src='img/render_977500_1.svg'></img><p style='text-align:left;'>Similarity: <b>0.81132</b></p><p style='text-align:left;'>Target: <b>Histone deacetylase 1</b></p><p style='text-align:left;'>Ligands: <b>Homo sapiens (human)</b></p></td><td style='vertical-align:top;'><img class='zoom2' src='img/render_977500_2.svg'></img><p style='text-align:left;'>Similarity: <b>0.81132</b></p><p style='text-align:left;'>Target: <b>Histone deacetylase</b></p><p style='text-align:left;'>Ligands: <b>Homo sapiens (human)</b></p></td><td></td><td></td><td></td></tr><tr><td><h2>4</h2></td><td style='border-right:3px solid #aaa;vertical-align:top;'><img class='zoom2' src='img/render_15987509_0.svg'></img><p style='text-align:left;'><b>15987509</b></p><p style='text-align:left;'>Score: <b>98</b></p><p style='text-align:left;'>Potency: <b>0.89</b></p><p style='text-align:left;'>Efficacy: <b>242.72</b></p><p style='text-align:left;'>Weight: <b>372.42</b></p><p style='text-align:left;'>H-Acceptors: <b>4</b></p><p style='text-align:left;'>H-Donors: <b>1</b></p></td><td style='vertical-align:top;'><img class='zoom2' src='img/render_15987509_1.svg'></img><p style='text-align:left;'>Similarity: <b>0.96525</b></p><p style='text-align:left;'>Target: <b>Cholesteryl ester transfer protein</b></p><p style='text-align:left;'>Ligands: <b>Homo sapiens (Human)</b></p></td><td style='vertical-align:top;'><img class='zoom2' src='img/render_15987509_2.svg'></img><p style='text-align:left;'>Similarity: <b>0.90741</b></p><p style='text-align:left;'>Target: <b>Cholesteryl ester transfer protein</b></p><p style='text-align:left;'>Ligands: <b>Homo sapiens (Human)</b></p></td><td style='vertical-align:top;'><img class='zoom2' src='img/render_15987509_3.svg'></img><p style='text-align:left;'>Similarity: <b>0.87085</b></p><p style='text-align:left;'>Target: <b>Cholesteryl ester transfer protein</b></p><p style='text-align:left;'>Ligands: <b>Homo sapiens (Human)</b></p></td><td style='vertical-align:top;'><img class='zoom2' src='img/render_15987509_4.svg'></img><p style='text-align:left;'>Similarity: <b>0.86545</b></p><p style='text-align:left;'>Target: <b>Cholesteryl ester transfer protein</b></p><p style='text-align:left;'>Ligands: <b>Homo sapiens (Human)</b></p></td><td style='vertical-align:top;'><img class='zoom2' src='img/render_15987509_5.svg'></img><p style='text-align:left;'>Similarity: <b>0.86022</b></p><p style='text-align:left;'>Target: <b>Cholesteryl ester transfer protein</b></p><p style='text-align:left;'>Ligands: <b>Homo sapiens (Human)</b></p></td></tr><tr><td><h2>5</h2></td><td style='border-right:3px solid #aaa;vertical-align:top;'><img class='zoom2' src='img/render_2150868_0.svg'></img><p style='text-align:left;'><b>2150868</b></p><p style='text-align:left;'>Score: <b>98</b></p><p style='text-align:left;'>Potency: <b>0.79</b></p><p style='text-align:left;'>Efficacy: <b>160.41</b></p><p style='text-align:left;'>Weight: <b>354.42</b></p><p style='text-align:left;'>H-Acceptors: <b>4</b></p><p style='text-align:left;'>H-Donors: <b>0</b></p></td><td style='vertical-align:top;'><img class='zoom2' src='img/render_2150868_1.svg'></img><p style='text-align:left;'>Similarity: <b>0.93846</b></p><p style='text-align:left;'>Target: <b>neutrophil cytosolic factor 1</b></p><p style='text-align:left;'>Ligands: <b>Homo sapiens</b></p></td><td></td><td></td><td></td><td></td></tr><tr><td><h2>6</h2></td><td style='border-right:3px solid #aaa;vertical-align:top;'><img class='zoom2' src='img/render_5054584_0.svg'></img><p style='text-align:left;'><b>5054584</b></p><p style='text-align:left;'>Score: <b>98</b></p><p style='text-align:left;'>Potency: <b>1.26</b></p><p style='text-align:left;'>Efficacy: <b>268.72</b></p><p style='text-align:left;'>Weight: <b>327.16</b></p><p style='text-align:left;'>H-Acceptors: <b>4</b></p><p style='text-align:left;'>H-Donors: <b>0</b></p></td><td style='vertical-align:top;'><img class='zoom2' src='img/render_5054584_1.svg'></img><p style='text-align:left;'>Similarity: <b>0.87823</b></p><p style='text-align:left;'>Target: <b>Steroidogenic Factor 1</b></p><p style='text-align:left;'>Ligands: <b>Homo sapiens (human)</b></p></td><td style='vertical-align:top;'><img class='zoom2' src='img/render_5054584_2.svg'></img><p style='text-align:left;'>Similarity: <b>0.87823</b></p><p style='text-align:left;'>Target: <b>nuclear receptor subfamily 0 group B member 1</b></p><p style='text-align:left;'>Ligands: <b>Homo sapiens</b></p></td><td></td><td></td><td></td></tr><tr><td><h2>7</h2></td><td style='border-right:3px solid #aaa;vertical-align:top;'><img class='zoom2' src='img/render_15991408_0.svg'></img><p style='text-align:left;'><b>15991408</b></p><p style='text-align:left;'>Score: <b>98</b></p><p style='text-align:left;'>Potency: <b>2.24</b></p><p style='text-align:left;'>Efficacy: <b>262.62</b></p><p style='text-align:left;'>Weight: <b>322.40</b></p><p style='text-align:left;'>H-Acceptors: <b>3</b></p><p style='text-align:left;'>H-Donors: <b>0</b></p></td><td><h3 style='text-align:left;'>No targets found</h3></td><td></td><td></td><td></td><td></td></tr><tr><td><h2>8</h2></td><td style='border-right:3px solid #aaa;vertical-align:top;'><img class='zoom2' src='img/render_2317127_0.svg'></img><p style='text-align:left;'><b>2317127</b></p><p style='text-align:left;'>Score: <b>98</b></p><p style='text-align:left;'>Potency: <b>3.16</b></p><p style='text-align:left;'>Efficacy: <b>359.90</b></p><p style='text-align:left;'>Weight: <b>304.19</b></p><p style='text-align:left;'>H-Acceptors: <b>1</b></p><p style='text-align:left;'>H-Donors: <b>1</b></p></td><td><h3 style='text-align:left;'>No targets found</h3></td><td></td><td></td><td></td><td></td></tr><tr><td><h2>9</h2></td><td style='border-right:3px solid #aaa;vertical-align:top;'><img class='zoom2' src='img/render_9567025_0.svg'></img><p style='text-align:left;'><b>9567025</b></p><p style='text-align:left;'>Score: <b>97</b></p><p style='text-align:left;'>Potency: <b>1.12</b></p><p style='text-align:left;'>Efficacy: <b>255.74</b></p><p style='text-align:left;'>Weight: <b>340.16</b></p><p style='text-align:left;'>H-Acceptors: <b>5</b></p><p style='text-align:left;'>H-Donors: <b>1</b></p></td><td><h3 style='text-align:left;'>No targets found</h3></td><td></td><td></td><td></td><td></td></tr><tr><td><h2>10</h2></td><td style='border-right:3px solid #aaa;vertical-align:top;'><img class='zoom2' src='img/render_2940041_0.svg'></img><p style='text-align:left;'><b>2940041</b></p><p style='text-align:left;'>Score: <b>97</b></p><p style='text-align:left;'>Potency: <b>3.16</b></p><p style='text-align:left;'>Efficacy: <b>325.65</b></p><p style='text-align:left;'>Weight: <b>343.81</b></p><p style='text-align:left;'>H-Acceptors: <b>5</b></p><p style='text-align:left;'>H-Donors: <b>0</b></p></td><td style='vertical-align:top;'><img class='zoom2' src='img/render_2940041_1.svg'></img><p style='text-align:left;'>Similarity: <b>0.87407</b></p><p style='text-align:left;'>Target: <b>STAT3</b></p><p style='text-align:left;'>Ligands: <b>Homo sapiens</b></p></td><td style='vertical-align:top;'><img class='zoom2' src='img/render_2940041_2.svg'></img><p style='text-align:left;'>Similarity: <b>0.86166</b></p><p style='text-align:left;'>Target: <b>LANA</b></p><p style='text-align:left;'>Ligands: <b>Human herpesvirus 8</b></p></td><td style='vertical-align:top;'><img class='zoom2' src='img/render_2940041_3.svg'></img><p style='text-align:left;'>Similarity: <b>0.85659</b></p><p style='text-align:left;'>Target: <b>Steroidogenic Factor 1</b></p><p style='text-align:left;'>Ligands: <b>Homo sapiens (human)</b></p></td><td style='vertical-align:top;'><img class='zoom2' src='img/render_2940041_4.svg'></img><p style='text-align:left;'>Similarity: <b>0.85659</b></p><p style='text-align:left;'>Target: <b>Nuclear receptor ROR-alpha</b></p><p style='text-align:left;'>Ligands: <b>Homo sapiens</b></p></td><td style='vertical-align:top;'><img class='zoom2' src='img/render_2940041_5.svg'></img><p style='text-align:left;'>Similarity: <b>0.83398</b></p><p style='text-align:left;'>Target: <b>Nuclear receptor ROR-alpha</b></p><p style='text-align:left;'>Ligands: <b>Homo sapiens</b></p></td></tr><tr><td><h2>11</h2></td><td style='border-right:3px solid #aaa;vertical-align:top;'><img class='zoom2' src='img/render_3128535_0.svg'></img><p style='text-align:left;'><b>3128535</b></p><p style='text-align:left;'>Score: <b>97</b></p><p style='text-align:left;'>Potency: <b>1.41</b></p><p style='text-align:left;'>Efficacy: <b>267.15</b></p><p style='text-align:left;'>Weight: <b>245.36</b></p><p style='text-align:left;'>H-Acceptors: <b>5</b></p><p style='text-align:left;'>H-Donors: <b>1</b></p></td><td style='vertical-align:top;'><img class='zoom2' src='img/render_3128535_1.svg'></img><p style='text-align:left;'>Similarity: <b>1.0</b></p><p style='text-align:left;'>Target: <b>Nuclear factor NF-kappa-B</b></p><p style='text-align:left;'>Ligands: <b>Homo sapiens (Human)</b></p></td><td style='vertical-align:top;'><img class='zoom2' src='img/render_3128535_2.svg'></img><p style='text-align:left;'>Similarity: <b>0.9557</b></p><p style='text-align:left;'>Target: <b>Liver X receptor beta (LXRB)</b></p><p style='text-align:left;'>Ligands: <b>Homo sapiens (Human)</b></p></td><td style='vertical-align:top;'><img class='zoom2' src='img/render_3128535_3.svg'></img><p style='text-align:left;'>Similarity: <b>0.94611</b></p><p style='text-align:left;'>Target: <b>XBP1</b></p><p style='text-align:left;'>Ligands: <b>Homo sapiens</b></p></td><td style='vertical-align:top;'><img class='zoom2' src='img/render_3128535_4.svg'></img><p style='text-align:left;'>Similarity: <b>0.94611</b></p><p style='text-align:left;'>Target: <b>DNA damage-inducible transcript 3 protein</b></p><p style='text-align:left;'>Ligands: <b>Mus musculus</b></p></td><td></td></tr><tr><td><h2>12</h2></td><td style='border-right:3px solid #aaa;vertical-align:top;'><img class='zoom2' src='img/render_990380_0.svg'></img><p style='text-align:left;'><b>990380</b></p><p style='text-align:left;'>Score: <b>96</b></p><p style='text-align:left;'>Potency: <b>1.26</b></p><p style='text-align:left;'>Efficacy: <b>231.91</b></p><p style='text-align:left;'>Weight: <b>359.48</b></p><p style='text-align:left;'>H-Acceptors: <b>6</b></p><p style='text-align:left;'>H-Donors: <b>0</b></p></td><td style='vertical-align:top;'><img class='zoom2' src='img/render_990380_1.svg'></img><p style='text-align:left;'>Similarity: <b>1.0</b></p><p style='text-align:left;'>Target: <b>Glycogen synthase kinase-3</b></p><p style='text-align:left;'>Ligands: <b>Homo sapiens (human)</b></p></td><td style='vertical-align:top;'><img class='zoom2' src='img/render_990380_2.svg'></img><p style='text-align:left;'>Similarity: <b>0.77649</b></p><p style='text-align:left;'>Target: <b>Low molecular weight phosphotyrosine protein phosphatase (LMWPTP)</b></p><p style='text-align:left;'>Ligands: <b>Homo sapiens (Human)</b></p></td><td style='vertical-align:top;'><img class='zoom2' src='img/render_990380_3.svg'></img><p style='text-align:left;'>Similarity: <b>0.77649</b></p><p style='text-align:left;'>Target: <b>carboxy-terminal domain RNA polymerase II polypeptide A small phosphatase 1 isoform 1</b></p><p style='text-align:left;'>Ligands: <b>Homo sapiens</b></p></td><td></td><td></td></tr><tr><td><h2>13</h2></td><td style='border-right:3px solid #aaa;vertical-align:top;'><img class='zoom2' src='img/render_6467995_0.svg'></img><p style='text-align:left;'><b>6467995</b></p><p style='text-align:left;'>Score: <b>96</b></p><p style='text-align:left;'>Potency: <b>0.89</b></p><p style='text-align:left;'>Efficacy: <b>211.01</b></p><p style='text-align:left;'>Weight: <b>288.28</b></p><p style='text-align:left;'>H-Acceptors: <b>4</b></p><p style='text-align:left;'>H-Donors: <b>2</b></p></td><td><h3 style='text-align:left;'>No targets found</h3></td><td></td><td></td><td></td><td></td></tr><tr><td><h2>14</h2></td><td style='border-right:3px solid #aaa;vertical-align:top;'><img class='zoom2' src='img/render_24790967_0.svg'></img><p style='text-align:left;'><b>24790967</b></p><p style='text-align:left;'>Score: <b>96</b></p><p style='text-align:left;'>Potency: <b>1.00</b></p><p style='text-align:left;'>Efficacy: <b>243.34</b></p><p style='text-align:left;'>Weight: <b>303.76</b></p><p style='text-align:left;'>H-Acceptors: <b>4</b></p><p style='text-align:left;'>H-Donors: <b>1</b></p></td><td><h3 style='text-align:left;'>No targets found</h3></td><td></td><td></td><td></td><td></td></tr><tr><td><h2>15</h2></td><td style='border-right:3px solid #aaa;vertical-align:top;'><img class='zoom2' src='img/render_4906222_0.svg'></img><p style='text-align:left;'><b>4906222</b></p><p style='text-align:left;'>Score: <b>96</b></p><p style='text-align:left;'>Potency: <b>2.24</b></p><p style='text-align:left;'>Efficacy: <b>315.40</b></p><p style='text-align:left;'>Weight: <b>334.42</b></p><p style='text-align:left;'>H-Acceptors: <b>4</b></p><p style='text-align:left;'>H-Donors: <b>0</b></p></td><td style='vertical-align:top;'><img class='zoom2' src='img/render_4906222_1.svg'></img><p style='text-align:left;'>Similarity: <b>1.0</b></p><p style='text-align:left;'>Target: <b>Hsf1 protein</b></p><p style='text-align:left;'>Ligands: <b>Mus musculus</b></p></td><td style='vertical-align:top;'><img class='zoom2' src='img/render_4906222_2.svg'></img><p style='text-align:left;'>Similarity: <b>0.87889</b></p><p style='text-align:left;'>Target: <b>tumor necrosis factor receptor superfamily member 10B isoform 1 precursor [Homo sapiens]</b></p><p style='text-align:left;'>Ligands: <b>Homo sapiens</b></p></td><td style='vertical-align:top;'><img class='zoom2' src='img/render_4906222_3.svg'></img><p style='text-align:left;'>Similarity: <b>0.87889</b></p><p style='text-align:left;'>Target: <b>Liver X receptor beta (LXRB)</b></p><p style='text-align:left;'>Ligands: <b>Homo sapiens (Human)</b></p></td><td style='vertical-align:top;'><img class='zoom2' src='img/render_4906222_4.svg'></img><p style='text-align:left;'>Similarity: <b>0.87889</b></p><p style='text-align:left;'>Target: <b>matrix metalloproteinase 1</b></p><p style='text-align:left;'>Ligands: <b>Homo sapiens</b></p></td><td style='vertical-align:top;'><img class='zoom2' src='img/render_4906222_5.svg'></img><p style='text-align:left;'>Similarity: <b>0.87889</b></p><p style='text-align:left;'>Target: <b>Protein DAF-12, isoform a</b></p><p style='text-align:left;'>Ligands: <b>Caenorhabditis elegans</b></p></td></tr><tr><td><h2>16</h2></td><td style='border-right:3px solid #aaa;vertical-align:top;'><img class='zoom2' src='img/render_16066614_0.svg'></img><p style='text-align:left;'><b>16066614</b></p><p style='text-align:left;'>Score: <b>96</b></p><p style='text-align:left;'>Potency: <b>3.55</b></p><p style='text-align:left;'>Efficacy: <b>343.46</b></p><p style='text-align:left;'>Weight: <b>271.71</b></p><p style='text-align:left;'>H-Acceptors: <b>4</b></p><p style='text-align:left;'>H-Donors: <b>0</b></p></td><td style='vertical-align:top;'><img class='zoom2' src='img/render_16066614_1.svg'></img><p style='text-align:left;'>Similarity: <b>1.0</b></p><p style='text-align:left;'>Target: <b>tumor necrosis factor receptor superfamily member 10B isoform 1 precursor [Homo sapiens]</b></p><p style='text-align:left;'>Ligands: <b>Homo sapiens</b></p></td><td style='vertical-align:top;'><img class='zoom2' src='img/render_16066614_2.svg'></img><p style='text-align:left;'>Similarity: <b>1.0</b></p><p style='text-align:left;'>Target: <b>Nuclear factor NF-kappa-B</b></p><p style='text-align:left;'>Ligands: <b>Homo sapiens (Human)</b></p></td><td style='vertical-align:top;'><img class='zoom2' src='img/render_16066614_3.svg'></img><p style='text-align:left;'>Similarity: <b>1.0</b></p><p style='text-align:left;'>Target: <b>Caspase-3</b></p><p style='text-align:left;'>Ligands: <b>Homo sapiens (human)</b></p></td><td style='vertical-align:top;'><img class='zoom2' src='img/render_16066614_4.svg'></img><p style='text-align:left;'>Similarity: <b>1.0</b></p><p style='text-align:left;'>Target: <b>SUMO/sentrin specific peptidase family member 8</b></p><p style='text-align:left;'>Ligands: <b>Homo sapiens</b></p></td><td style='vertical-align:top;'><img class='zoom2' src='img/render_16066614_5.svg'></img><p style='text-align:left;'>Similarity: <b>1.0</b></p><p style='text-align:left;'>Target: <b>SUMO-1-specific protease</b></p><p style='text-align:left;'>Ligands: <b>Homo sapiens</b></p></td></tr><tr><td><h2>17</h2></td><td style='border-right:3px solid #aaa;vertical-align:top;'><img class='zoom2' src='img/render_2118395_0.svg'></img><p style='text-align:left;'><b>2118395</b></p><p style='text-align:left;'>Score: <b>95</b></p><p style='text-align:left;'>Potency: <b>1.00</b></p><p style='text-align:left;'>Efficacy: <b>209.43</b></p><p style='text-align:left;'>Weight: <b>340.40</b></p><p style='text-align:left;'>H-Acceptors: <b>4</b></p><p style='text-align:left;'>H-Donors: <b>2</b></p></td><td style='vertical-align:top;'><img class='zoom2' src='img/render_2118395_1.svg'></img><p style='text-align:left;'>Similarity: <b>1.0</b></p><p style='text-align:left;'>Target: <b>Mitogen-activated protein kinase 10</b></p><p style='text-align:left;'>Ligands: <b>Homo sapiens (human)</b></p></td><td></td><td></td><td></td><td></td></tr><tr><td><h2>18</h2></td><td style='border-right:3px solid #aaa;vertical-align:top;'><img class='zoom2' src='img/render_2478156_0.svg'></img><p style='text-align:left;'><b>2478156</b></p><p style='text-align:left;'>Score: <b>95</b></p><p style='text-align:left;'>Potency: <b>1.00</b></p><p style='text-align:left;'>Efficacy: <b>195.37</b></p><p style='text-align:left;'>Weight: <b>311.34</b></p><p style='text-align:left;'>H-Acceptors: <b>5</b></p><p style='text-align:left;'>H-Donors: <b>0</b></p></td><td><h3 style='text-align:left;'>No targets found</h3></td><td></td><td></td><td></td><td></td></tr><tr><td><h2>19</h2></td><td style='border-right:3px solid #aaa;vertical-align:top;'><img class='zoom2' src='img/render_44475983_0.svg'></img><p style='text-align:left;'><b>44475983</b></p><p style='text-align:left;'>Score: <b>95</b></p><p style='text-align:left;'>Potency: <b>2.00</b></p><p style='text-align:left;'>Efficacy: <b>252.86</b></p><p style='text-align:left;'>Weight: <b>372.76</b></p><p style='text-align:left;'>H-Acceptors: <b>5</b></p><p style='text-align:left;'>H-Donors: <b>0</b></p></td><td style='vertical-align:top;'><img class='zoom2' src='img/render_44475983_1.svg'></img><p style='text-align:left;'>Similarity: <b>0.85251</b></p><p style='text-align:left;'>Target: <b>Metabotropic glutamate receptor 7 (mGlu7)</b></p><p style='text-align:left;'>Ligands: <b>Rattus norvegicus (Rat)</b></p></td><td style='vertical-align:top;'><img class='zoom2' src='img/render_44475983_2.svg'></img><p style='text-align:left;'>Similarity: <b>0.80531</b></p><p style='text-align:left;'>Target: <b>SUMO-1-specific protease</b></p><p style='text-align:left;'>Ligands: <b>Homo sapiens</b></p></td><td style='vertical-align:top;'><img class='zoom2' src='img/render_44475983_3.svg'></img><p style='text-align:left;'>Similarity: <b>0.80531</b></p><p style='text-align:left;'>Target: <b>SUMO/sentrin specific peptidase family member 8</b></p><p style='text-align:left;'>Ligands: <b>Homo sapiens</b></p></td><td style='vertical-align:top;'><img class='zoom2' src='img/render_44475983_4.svg'></img><p style='text-align:left;'>Similarity: <b>0.80531</b></p><p style='text-align:left;'>Target: <b>Caspase-3</b></p><p style='text-align:left;'>Ligands: <b>Homo sapiens (human)</b></p></td><td style='vertical-align:top;'><img class='zoom2' src='img/render_44475983_5.svg'></img><p style='text-align:left;'>Similarity: <b>0.80531</b></p><p style='text-align:left;'>Target: <b>Metabotropic glutamate receptor 7 (mGlu7)</b></p><p style='text-align:left;'>Ligands: <b>Rattus norvegicus (Rat)</b></p></td></tr><tr><td><h2>20</h2></td><td style='border-right:3px solid #aaa;vertical-align:top;'><img class='zoom2' src='img/render_804039_0.svg'></img><p style='text-align:left;'><b>804039</b></p><p style='text-align:left;'>Score: <b>95</b></p><p style='text-align:left;'>Potency: <b>2.51</b></p><p style='text-align:left;'>Efficacy: <b>280.45</b></p><p style='text-align:left;'>Weight: <b>296.32</b></p><p style='text-align:left;'>H-Acceptors: <b>4</b></p><p style='text-align:left;'>H-Donors: <b>0</b></p></td><td style='vertical-align:top;'><img class='zoom2' src='img/render_804039_1.svg'></img><p style='text-align:left;'>Similarity: <b>1.0</b></p><p style='text-align:left;'>Target: <b>SUMO-1-specific protease</b></p><p style='text-align:left;'>Ligands: <b>Homo sapiens</b></p></td><td style='vertical-align:top;'><img class='zoom2' src='img/render_804039_2.svg'></img><p style='text-align:left;'>Similarity: <b>1.0</b></p><p style='text-align:left;'>Target: <b>SUMO/sentrin specific peptidase family member 8</b></p><p style='text-align:left;'>Ligands: <b>Homo sapiens</b></p></td><td style='vertical-align:top;'><img class='zoom2' src='img/render_804039_3.svg'></img><p style='text-align:left;'>Similarity: <b>1.0</b></p><p style='text-align:left;'>Target: <b>Caspase-3</b></p><p style='text-align:left;'>Ligands: <b>Homo sapiens (human)</b></p></td><td style='vertical-align:top;'><img class='zoom2' src='img/render_804039_4.svg'></img><p style='text-align:left;'>Similarity: <b>0.95906</b></p><p style='text-align:left;'>Target: <b>SUMO-1-specific protease</b></p><p style='text-align:left;'>Ligands: <b>Homo sapiens</b></p></td><td style='vertical-align:top;'><img class='zoom2' src='img/render_804039_5.svg'></img><p style='text-align:left;'>Similarity: <b>0.95906</b></p><p style='text-align:left;'>Target: <b>SUMO/sentrin specific peptidase family member 8</b></p><p style='text-align:left;'>Ligands: <b>Homo sapiens</b></p></td></tr><tr><td><h2>21</h2></td><td style='border-right:3px solid #aaa;vertical-align:top;'><img class='zoom2' src='img/render_1905664_0.svg'></img><p style='text-align:left;'><b>1905664</b></p><p style='text-align:left;'>Score: <b>95</b></p><p style='text-align:left;'>Potency: <b>2.00</b></p><p style='text-align:left;'>Efficacy: <b>263.06</b></p><p style='text-align:left;'>Weight: <b>406.82</b></p><p style='text-align:left;'>H-Acceptors: <b>6</b></p><p style='text-align:left;'>H-Donors: <b>0</b></p></td><td style='vertical-align:top;'><img class='zoom2' src='img/render_1905664_1.svg'></img><p style='text-align:left;'>Similarity: <b>1.0</b></p><p style='text-align:left;'>Target: <b>Factor XIIa</b></p><p style='text-align:left;'>Ligands: <b>Homo sapiens (Human)</b></p></td><td style='vertical-align:top;'><img class='zoom2' src='img/render_1905664_2.svg'></img><p style='text-align:left;'>Similarity: <b>1.0</b></p><p style='text-align:left;'>Target: <b>LAP4</b></p><p style='text-align:left;'>Ligands: <b>Saccharomyces cerevisiae</b></p></td><td style='vertical-align:top;'><img class='zoom2' src='img/render_1905664_3.svg'></img><p style='text-align:left;'>Similarity: <b>0.96866</b></p><p style='text-align:left;'>Target: <b>Coagulation factor XI</b></p><p style='text-align:left;'>Ligands: <b>Homo sapiens (human)</b></p></td><td style='vertical-align:top;'><img class='zoom2' src='img/render_1905664_4.svg'></img><p style='text-align:left;'>Similarity: <b>0.87433</b></p><p style='text-align:left;'>Target: <b>Factor XIIa</b></p><p style='text-align:left;'>Ligands: <b>Homo sapiens (Human)</b></p></td><td style='vertical-align:top;'><img class='zoom2' src='img/render_1905664_5.svg'></img><p style='text-align:left;'>Similarity: <b>0.87433</b></p><p style='text-align:left;'>Target: <b>Prothrombin</b></p><p style='text-align:left;'>Ligands: <b>Homo sapiens (human)</b></p></td></tr><tr><td><h2>22</h2></td><td style='border-right:3px solid #aaa;vertical-align:top;'><img class='zoom2' src='img/render_3244649_0.svg'></img><p style='text-align:left;'><b>3244649</b></p><p style='text-align:left;'>Score: <b>95</b></p><p style='text-align:left;'>Potency: <b>2.82</b></p><p style='text-align:left;'>Efficacy: <b>257.36</b></p><p style='text-align:left;'>Weight: <b>383.44</b></p><p style='text-align:left;'>H-Acceptors: <b>7</b></p><p style='text-align:left;'>H-Donors: <b>1</b></p></td><td style='vertical-align:top;'><img class='zoom2' src='img/render_3244649_1.svg'></img><p style='text-align:left;'>Similarity: <b>1.0</b></p><p style='text-align:left;'>Target: <b>Nuclear factor NF-kappa-B</b></p><p style='text-align:left;'>Ligands: <b>Homo sapiens (Human)</b></p></td><td style='vertical-align:top;'><img class='zoom2' src='img/render_3244649_2.svg'></img><p style='text-align:left;'>Similarity: <b>0.75321</b></p><p style='text-align:left;'>Target: <b>nuclear receptor corepressor 2 isoform 2</b></p><p style='text-align:left;'>Ligands: <b>Homo sapiens</b></p></td><td style='vertical-align:top;'><img class='zoom2' src='img/render_3244649_3.svg'></img><p style='text-align:left;'>Similarity: <b>0.75321</b></p><p style='text-align:left;'>Target: <b>photoreceptor-specific nuclear receptor</b></p><p style='text-align:left;'>Ligands: <b>Homo sapiens</b></p></td><td></td><td></td></tr><tr><td><h2>23</h2></td><td style='border-right:3px solid #aaa;vertical-align:top;'><img class='zoom2' src='img/render_22581682_0.svg'></img><p style='text-align:left;'><b>22581682</b></p><p style='text-align:left;'>Score: <b>95</b></p><p style='text-align:left;'>Potency: <b>1.26</b></p><p style='text-align:left;'>Efficacy: <b>198.77</b></p><p style='text-align:left;'>Weight: <b>396.51</b></p><p style='text-align:left;'>H-Acceptors: <b>5</b></p><p style='text-align:left;'>H-Donors: <b>1</b></p></td><td><h3 style='text-align:left;'>No targets found</h3></td><td></td><td></td><td></td><td></td></tr><tr><td><h2>24</h2></td><td style='border-right:3px solid #aaa;vertical-align:top;'><img class='zoom2' src='img/render_6468993_0.svg'></img><p style='text-align:left;'><b>6468993</b></p><p style='text-align:left;'>Score: <b>94</b></p><p style='text-align:left;'>Potency: <b>3.55</b></p><p style='text-align:left;'>Efficacy: <b>312.76</b></p><p style='text-align:left;'>Weight: <b>255.32</b></p><p style='text-align:left;'>H-Acceptors: <b>2</b></p><p style='text-align:left;'>H-Donors: <b>2</b></p></td><td><h3 style='text-align:left;'>No targets found</h3></td><td></td><td></td><td></td><td></td></tr><tr><td><h2>25</h2></td><td style='border-right:3px solid #aaa;vertical-align:top;'><img class='zoom2' src='img/render_251641_0.svg'></img><p style='text-align:left;'><b>251641</b></p><p style='text-align:left;'>Score: <b>94</b></p><p style='text-align:left;'>Potency: <b>2.24</b></p><p style='text-align:left;'>Efficacy: <b>241.21</b></p><p style='text-align:left;'>Weight: <b>289.35</b></p><p style='text-align:left;'>H-Acceptors: <b>6</b></p><p style='text-align:left;'>H-Donors: <b>1</b></p></td><td style='vertical-align:top;'><img class='zoom2' src='img/render_251641_1.svg'></img><p style='text-align:left;'>Similarity: <b>1.0</b></p><p style='text-align:left;'>Target: <b>Nuclear factor NF-kappa-B</b></p><p style='text-align:left;'>Ligands: <b>Homo sapiens (Human)</b></p></td><td style='vertical-align:top;'><img class='zoom2' src='img/render_251641_2.svg'></img><p style='text-align:left;'>Similarity: <b>1.0</b></p><p style='text-align:left;'>Target: <b>Liver X receptor beta (LXRB)</b></p><p style='text-align:left;'>Ligands: <b>Homo sapiens (Human)</b></p></td><td style='vertical-align:top;'><img class='zoom2' src='img/render_251641_3.svg'></img><p style='text-align:left;'>Similarity: <b>0.7663</b></p><p style='text-align:left;'>Target: <b>Liver X receptor beta (LXRB)</b></p><p style='text-align:left;'>Ligands: <b>Homo sapiens (Human)</b></p></td><td></td><td></td></tr><tr><td><h2>26</h2></td><td style='border-right:3px solid #aaa;vertical-align:top;'><img class='zoom2' src='img/render_2115913_0.svg'></img><p style='text-align:left;'><b>2115913</b></p><p style='text-align:left;'>Score: <b>94</b></p><p style='text-align:left;'>Potency: <b>1.26</b></p><p style='text-align:left;'>Efficacy: <b>205.33</b></p><p style='text-align:left;'>Weight: <b>314.36</b></p><p style='text-align:left;'>H-Acceptors: <b>4</b></p><p style='text-align:left;'>H-Donors: <b>2</b></p></td><td style='vertical-align:top;'><img class='zoom2' src='img/render_2115913_1.svg'></img><p style='text-align:left;'>Similarity: <b>1.0</b></p><p style='text-align:left;'>Target: <b>Mitogen-activated protein kinase 10</b></p><p style='text-align:left;'>Ligands: <b>Homo sapiens (human)</b></p></td><td style='vertical-align:top;'><img class='zoom2' src='img/render_2115913_2.svg'></img><p style='text-align:left;'>Similarity: <b>1.0</b></p><p style='text-align:left;'>Target: <b>corticotropin releasing factor-binding protein</b></p><p style='text-align:left;'>Ligands: <b>Homo sapiens</b></p></td><td style='vertical-align:top;'><img class='zoom2' src='img/render_2115913_3.svg'></img><p style='text-align:left;'>Similarity: <b>0.96642</b></p><p style='text-align:left;'>Target: <b>c-Jun N-terminal kinase, JNK</b></p><p style='text-align:left;'>Ligands: <b>Homo sapiens (human)</b></p></td><td></td><td></td></tr><tr><td><h2>27</h2></td><td style='border-right:3px solid #aaa;vertical-align:top;'><img class='zoom2' src='img/render_944643_0.svg'></img><p style='text-align:left;'><b>944643</b></p><p style='text-align:left;'>Score: <b>94</b></p><p style='text-align:left;'>Potency: <b>2.00</b></p><p style='text-align:left;'>Efficacy: <b>250.05</b></p><p style='text-align:left;'>Weight: <b>281.36</b></p><p style='text-align:left;'>H-Acceptors: <b>4</b></p><p style='text-align:left;'>H-Donors: <b>1</b></p></td><td style='vertical-align:top;'><img class='zoom2' src='img/render_944643_1.svg'></img><p style='text-align:left;'>Similarity: <b>1.0</b></p><p style='text-align:left;'>Target: <b>Metabotropic glutamate receptor 5</b></p><p style='text-align:left;'>Ligands: <b>Homo sapiens (Human)</b></p></td><td style='vertical-align:top;'><img class='zoom2' src='img/render_944643_2.svg'></img><p style='text-align:left;'>Similarity: <b>1.0</b></p><p style='text-align:left;'>Target: <b>Metabotropic glutamate receptor 5</b></p><p style='text-align:left;'>Ligands: <b>Homo sapiens (Human)</b></p></td><td style='vertical-align:top;'><img class='zoom2' src='img/render_944643_3.svg'></img><p style='text-align:left;'>Similarity: <b>0.99522</b></p><p style='text-align:left;'>Target: <b>STAT3</b></p><p style='text-align:left;'>Ligands: <b>Homo sapiens</b></p></td><td style='vertical-align:top;'><img class='zoom2' src='img/render_944643_4.svg'></img><p style='text-align:left;'>Similarity: <b>0.95853</b></p><p style='text-align:left;'>Target: <b>Metabotropic glutamate receptor 5</b></p><p style='text-align:left;'>Ligands: <b>Homo sapiens (Human)</b></p></td><td style='vertical-align:top;'><img class='zoom2' src='img/render_944643_5.svg'></img><p style='text-align:left;'>Similarity: <b>0.95853</b></p><p style='text-align:left;'>Target: <b>Metabotropic glutamate receptor 5</b></p><p style='text-align:left;'>Ligands: <b>Homo sapiens (Human)</b></p></td></tr><tr><td><h2>28</h2></td><td style='border-right:3px solid #aaa;vertical-align:top;'><img class='zoom2' src='img/render_2907426_0.svg'></img><p style='text-align:left;'><b>2907426</b></p><p style='text-align:left;'>Score: <b>94</b></p><p style='text-align:left;'>Potency: <b>2.82</b></p><p style='text-align:left;'>Efficacy: <b>245.36</b></p><p style='text-align:left;'>Weight: <b>297.44</b></p><p style='text-align:left;'>H-Acceptors: <b>1</b></p><p style='text-align:left;'>H-Donors: <b>1</b></p></td><td style='vertical-align:top;'><img class='zoom2' src='img/render_2907426_1.svg'></img><p style='text-align:left;'>Similarity: <b>1.0</b></p><p style='text-align:left;'>Target: <b>Liver X receptor beta (LXRB)</b></p><p style='text-align:left;'>Ligands: <b>Homo sapiens (Human)</b></p></td><td style='vertical-align:top;'><img class='zoom2' src='img/render_2907426_2.svg'></img><p style='text-align:left;'>Similarity: <b>0.88421</b></p><p style='text-align:left;'>Target: <b>Epoxide hydratase</b></p><p style='text-align:left;'>Ligands: <b>Homo sapiens (Human)</b></p></td><td style='vertical-align:top;'><img class='zoom2' src='img/render_2907426_3.svg'></img><p style='text-align:left;'>Similarity: <b>0.88421</b></p><p style='text-align:left;'>Target: <b>Soluble epoxide hydrolase (sEH)</b></p><p style='text-align:left;'>Ligands: <b>Mus musculus (Mouse)</b></p></td><td style='vertical-align:top;'><img class='zoom2' src='img/render_2907426_4.svg'></img><p style='text-align:left;'>Similarity: <b>0.84466</b></p><p style='text-align:left;'>Target: <b>Transient receptor potential M8 protein (TRPM8)</b></p><p style='text-align:left;'>Ligands: <b>Rattus norvegicus (Rat)</b></p></td><td style='vertical-align:top;'><img class='zoom2' src='img/render_2907426_5.svg'></img><p style='text-align:left;'>Similarity: <b>0.84466</b></p><p style='text-align:left;'>Target: <b>Transient receptor potential M8 protein (TRPM8)</b></p><p style='text-align:left;'>Ligands: <b>Rattus norvegicus (Rat)</b></p></td></tr><tr><td><h2>29</h2></td><td style='border-right:3px solid #aaa;vertical-align:top;'><img class='zoom2' src='img/render_829850_0.svg'></img><p style='text-align:left;'><b>829850</b></p><p style='text-align:left;'>Score: <b>94</b></p><p style='text-align:left;'>Potency: <b>2.51</b></p><p style='text-align:left;'>Efficacy: <b>229.06</b></p><p style='text-align:left;'>Weight: <b>267.33</b></p><p style='text-align:left;'>H-Acceptors: <b>3</b></p><p style='text-align:left;'>H-Donors: <b>1</b></p></td><td><h3 style='text-align:left;'>No targets found</h3></td><td></td><td></td><td></td><td></td></tr><tr><td><h2>30</h2></td><td style='border-right:3px solid #aaa;vertical-align:top;'><img class='zoom2' src='img/render_2813569_0.svg'></img><p style='text-align:left;'><b>2813569</b></p><p style='text-align:left;'>Score: <b>94</b></p><p style='text-align:left;'>Potency: <b>1.78</b></p><p style='text-align:left;'>Efficacy: <b>239.93</b></p><p style='text-align:left;'>Weight: <b>356.76</b></p><p style='text-align:left;'>H-Acceptors: <b>6</b></p><p style='text-align:left;'>H-Donors: <b>0</b></p></td><td style='vertical-align:top;'><img class='zoom2' src='img/render_2813569_1.svg'></img><p style='text-align:left;'>Similarity: <b>0.90726</b></p><p style='text-align:left;'>Target: <b>Nuclear receptor ROR-alpha</b></p><p style='text-align:left;'>Ligands: <b>Homo sapiens</b></p></td><td style='vertical-align:top;'><img class='zoom2' src='img/render_2813569_2.svg'></img><p style='text-align:left;'>Similarity: <b>0.90726</b></p><p style='text-align:left;'>Target: <b>Steroidogenic Factor 1</b></p><p style='text-align:left;'>Ligands: <b>Homo sapiens (human)</b></p></td><td></td><td></td><td></td></tr><tr><td><h2>31</h2></td><td style='border-right:3px solid #aaa;vertical-align:top;'><img class='zoom2' src='img/render_16103793_0.svg'></img><p style='text-align:left;'><b>16103793</b></p><p style='text-align:left;'>Score: <b>94</b></p><p style='text-align:left;'>Potency: <b>3.55</b></p><p style='text-align:left;'>Efficacy: <b>266.43</b></p><p style='text-align:left;'>Weight: <b>288.30</b></p><p style='text-align:left;'>H-Acceptors: <b>3</b></p><p style='text-align:left;'>H-Donors: <b>0</b></p></td><td style='vertical-align:top;'><img class='zoom2' src='img/render_16103793_1.svg'></img><p style='text-align:left;'>Similarity: <b>1.0</b></p><p style='text-align:left;'>Target: <b>SKiNhead family member (skn-1)</b></p><p style='text-align:left;'>Ligands: <b>Caenorhabditis elegans</b></p></td><td style='vertical-align:top;'><img class='zoom2' src='img/render_16103793_2.svg'></img><p style='text-align:left;'>Similarity: <b>0.89565</b></p><p style='text-align:left;'>Target: <b>SUMO-1-specific protease</b></p><p style='text-align:left;'>Ligands: <b>Homo sapiens</b></p></td><td style='vertical-align:top;'><img class='zoom2' src='img/render_16103793_3.svg'></img><p style='text-align:left;'>Similarity: <b>0.89565</b></p><p style='text-align:left;'>Target: <b>SUMO/sentrin specific peptidase family member 8</b></p><p style='text-align:left;'>Ligands: <b>Homo sapiens</b></p></td><td style='vertical-align:top;'><img class='zoom2' src='img/render_16103793_4.svg'></img><p style='text-align:left;'>Similarity: <b>0.89565</b></p><p style='text-align:left;'>Target: <b>Monoamine oxidase</b></p><p style='text-align:left;'>Ligands: <b>Homo sapiens (human)</b></p></td><td style='vertical-align:top;'><img class='zoom2' src='img/render_16103793_5.svg'></img><p style='text-align:left;'>Similarity: <b>0.89565</b></p><p style='text-align:left;'>Target: <b>Caspase-3</b></p><p style='text-align:left;'>Ligands: <b>Homo sapiens (human)</b></p></td></tr><tr><td><h2>32</h2></td><td style='border-right:3px solid #aaa;vertical-align:top;'><img class='zoom2' src='img/render_604596_0.svg'></img><p style='text-align:left;'><b>604596</b></p><p style='text-align:left;'>Score: <b>94</b></p><p style='text-align:left;'>Potency: <b>2.51</b></p><p style='text-align:left;'>Efficacy: <b>263.13</b></p><p style='text-align:left;'>Weight: <b>243.31</b></p><p style='text-align:left;'>H-Acceptors: <b>4</b></p><p style='text-align:left;'>H-Donors: <b>1</b></p></td><td><h3 style='text-align:left;'>No targets found</h3></td><td></td><td></td><td></td><td></td></tr><tr><td><h2>33</h2></td><td style='border-right:3px solid #aaa;vertical-align:top;'><img class='zoom2' src='img/render_2102875_0.svg'></img><p style='text-align:left;'><b>2102875</b></p><p style='text-align:left;'>Score: <b>94</b></p><p style='text-align:left;'>Potency: <b>1.26</b></p><p style='text-align:left;'>Efficacy: <b>203.56</b></p><p style='text-align:left;'>Weight: <b>309.33</b></p><p style='text-align:left;'>H-Acceptors: <b>5</b></p><p style='text-align:left;'>H-Donors: <b>1</b></p></td><td><h3 style='text-align:left;'>No targets found</h3></td><td></td><td></td><td></td><td></td></tr><tr><td><h2>34</h2></td><td style='border-right:3px solid #aaa;vertical-align:top;'><img class='zoom2' src='img/render_647044_0.svg'></img><p style='text-align:left;'><b>647044</b></p><p style='text-align:left;'>Score: <b>94</b></p><p style='text-align:left;'>Potency: <b>3.98</b></p><p style='text-align:left;'>Efficacy: <b>299.83</b></p><p style='text-align:left;'>Weight: <b>292.35</b></p><p style='text-align:left;'>H-Acceptors: <b>6</b></p><p style='text-align:left;'>H-Donors: <b>0</b></p></td><td style='vertical-align:top;'><img class='zoom2' src='img/render_647044_1.svg'></img><p style='text-align:left;'>Similarity: <b>0.93305</b></p><p style='text-align:left;'>Target: <b>Glycogen synthase kinase-3</b></p><p style='text-align:left;'>Ligands: <b>Homo sapiens (human)</b></p></td><td style='vertical-align:top;'><img class='zoom2' src='img/render_647044_2.svg'></img><p style='text-align:left;'>Similarity: <b>0.93305</b></p><p style='text-align:left;'>Target: <b>SKiNhead family member (skn-1)</b></p><p style='text-align:left;'>Ligands: <b>Caenorhabditis elegans</b></p></td><td style='vertical-align:top;'><img class='zoom2' src='img/render_647044_3.svg'></img><p style='text-align:left;'>Similarity: <b>0.91064</b></p><p style='text-align:left;'>Target: <b>Sphingosine 1-phosphate receptor 1 (S1P1)</b></p><p style='text-align:left;'>Ligands: <b>Homo sapiens (Human)</b></p></td><td style='vertical-align:top;'><img class='zoom2' src='img/render_647044_4.svg'></img><p style='text-align:left;'>Similarity: <b>0.91064</b></p><p style='text-align:left;'>Target: <b>SKiNhead family member (skn-1)</b></p><p style='text-align:left;'>Ligands: <b>Caenorhabditis elegans</b></p></td><td></td></tr><tr><td><h2>35</h2></td><td style='border-right:3px solid #aaa;vertical-align:top;'><img class='zoom2' src='img/render_2999803_0.svg'></img><p style='text-align:left;'><b>2999803</b></p><p style='text-align:left;'>Score: <b>94</b></p><p style='text-align:left;'>Potency: <b>2.82</b></p><p style='text-align:left;'>Efficacy: <b>255.34</b></p><p style='text-align:left;'>Weight: <b>358.39</b></p><p style='text-align:left;'>H-Acceptors: <b>5</b></p><p style='text-align:left;'>H-Donors: <b>1</b></p></td><td style='vertical-align:top;'><img class='zoom2' src='img/render_2999803_1.svg'></img><p style='text-align:left;'>Similarity: <b>0.94208</b></p><p style='text-align:left;'>Target: <b>Induced myeloid leukemia cell differentiation protein Mcl-1</b></p><p style='text-align:left;'>Ligands: <b>Homo sapiens (human)</b></p></td><td></td><td></td><td></td><td></td></tr><tr><td><h2>36</h2></td><td style='border-right:3px solid #aaa;vertical-align:top;'><img class='zoom2' src='img/render_555490_0.svg'></img><p style='text-align:left;'><b>555490</b></p><p style='text-align:left;'>Score: <b>94</b></p><p style='text-align:left;'>Potency: <b>3.16</b></p><p style='text-align:left;'>Efficacy: <b>266.44</b></p><p style='text-align:left;'>Weight: <b>212.25</b></p><p style='text-align:left;'>H-Acceptors: <b>3</b></p><p style='text-align:left;'>H-Donors: <b>1</b></p></td><td style='vertical-align:top;'><img class='zoom2' src='img/render_555490_1.svg'></img><p style='text-align:left;'>Similarity: <b>1.0</b></p><p style='text-align:left;'>Target: <b>Liver X receptor beta (LXRB)</b></p><p style='text-align:left;'>Ligands: <b>Homo sapiens (Human)</b></p></td><td></td><td></td><td></td><td></td></tr><tr><td><h2>37</h2></td><td style='border-right:3px solid #aaa;vertical-align:top;'><img class='zoom2' src='img/render_7205978_0.svg'></img><p style='text-align:left;'><b>7205978</b></p><p style='text-align:left;'>Score: <b>94</b></p><p style='text-align:left;'>Potency: <b>2.51</b></p><p style='text-align:left;'>Efficacy: <b>236.44</b></p><p style='text-align:left;'>Weight: <b>230.33</b></p><p style='text-align:left;'>H-Acceptors: <b>3</b></p><p style='text-align:left;'>H-Donors: <b>0</b></p></td><td style='vertical-align:top;'><img class='zoom2' src='img/render_7205978_1.svg'></img><p style='text-align:left;'>Similarity: <b>1.0</b></p><p style='text-align:left;'>Target: <b>tumor necrosis factor receptor superfamily member 10B isoform 1 precursor [Homo sapiens]</b></p><p style='text-align:left;'>Ligands: <b>Homo sapiens</b></p></td><td style='vertical-align:top;'><img class='zoom2' src='img/render_7205978_2.svg'></img><p style='text-align:left;'>Similarity: <b>1.0</b></p><p style='text-align:left;'>Target: <b>Nuclear factor NF-kappa-B</b></p><p style='text-align:left;'>Ligands: <b>Homo sapiens (Human)</b></p></td><td style='vertical-align:top;'><img class='zoom2' src='img/render_7205978_3.svg'></img><p style='text-align:left;'>Similarity: <b>1.0</b></p><p style='text-align:left;'>Target: <b>neutrophil cytosolic factor 1</b></p><p style='text-align:left;'>Ligands: <b>Homo sapiens</b></p></td><td></td><td></td></tr><tr><td><h2>38</h2></td><td style='border-right:3px solid #aaa;vertical-align:top;'><img class='zoom2' src='img/render_843396_0.svg'></img><p style='text-align:left;'><b>843396</b></p><p style='text-align:left;'>Score: <b>94</b></p><p style='text-align:left;'>Potency: <b>2.82</b></p><p style='text-align:left;'>Efficacy: <b>265.70</b></p><p style='text-align:left;'>Weight: <b>303.31</b></p><p style='text-align:left;'>H-Acceptors: <b>4</b></p><p style='text-align:left;'>H-Donors: <b>1</b></p></td><td style='vertical-align:top;'><img class='zoom2' src='img/render_843396_1.svg'></img><p style='text-align:left;'>Similarity: <b>0.81095</b></p><p style='text-align:left;'>Target: <b>Transient receptor potential cation channel subfamily V member 1</b></p><p style='text-align:left;'>Ligands: <b>Homo sapiens (Human)</b></p></td><td></td><td></td><td></td><td></td></tr><tr><td><h2>39</h2></td><td style='border-right:3px solid #aaa;vertical-align:top;'><img class='zoom2' src='img/render_3144221_0.svg'></img><p style='text-align:left;'><b>3144221</b></p><p style='text-align:left;'>Score: <b>93</b></p><p style='text-align:left;'>Potency: <b>4.47</b></p><p style='text-align:left;'>Efficacy: <b>287.23</b></p><p style='text-align:left;'>Weight: <b>322.81</b></p><p style='text-align:left;'>H-Acceptors: <b>4</b></p><p style='text-align:left;'>H-Donors: <b>1</b></p></td><td style='vertical-align:top;'><img class='zoom2' src='img/render_3144221_1.svg'></img><p style='text-align:left;'>Similarity: <b>1.0</b></p><p style='text-align:left;'>Target: <b>Glycogen synthase kinase-3</b></p><p style='text-align:left;'>Ligands: <b>Homo sapiens (human)</b></p></td><td style='vertical-align:top;'><img class='zoom2' src='img/render_3144221_2.svg'></img><p style='text-align:left;'>Similarity: <b>0.91406</b></p><p style='text-align:left;'>Target: <b>Glycogen synthase kinase-3</b></p><p style='text-align:left;'>Ligands: <b>Homo sapiens (human)</b></p></td><td style='vertical-align:top;'><img class='zoom2' src='img/render_3144221_3.svg'></img><p style='text-align:left;'>Similarity: <b>0.9</b></p><p style='text-align:left;'>Target: <b>Glycogen synthase kinase-3</b></p><p style='text-align:left;'>Ligands: <b>Homo sapiens (human)</b></p></td><td></td><td></td></tr><tr><td><h2>40</h2></td><td style='border-right:3px solid #aaa;vertical-align:top;'><img class='zoom2' src='img/render_24820069_0.svg'></img><p style='text-align:left;'><b>24820069</b></p><p style='text-align:left;'>Score: <b>93</b></p><p style='text-align:left;'>Potency: <b>2.00</b></p><p style='text-align:left;'>Efficacy: <b>235.45</b></p><p style='text-align:left;'>Weight: <b>270.31</b></p><p style='text-align:left;'>H-Acceptors: <b>2</b></p><p style='text-align:left;'>H-Donors: <b>2</b></p></td><td style='vertical-align:top;'><img class='zoom2' src='img/render_24820069_1.svg'></img><p style='text-align:left;'>Similarity: <b>1.0</b></p><p style='text-align:left;'>Target: <b>Caspase-3</b></p><p style='text-align:left;'>Ligands: <b>Homo sapiens (human)</b></p></td><td style='vertical-align:top;'><img class='zoom2' src='img/render_24820069_2.svg'></img><p style='text-align:left;'>Similarity: <b>1.0</b></p><p style='text-align:left;'>Target: <b>SUMO/sentrin specific peptidase family member 8</b></p><p style='text-align:left;'>Ligands: <b>Homo sapiens</b></p></td><td style='vertical-align:top;'><img class='zoom2' src='img/render_24820069_3.svg'></img><p style='text-align:left;'>Similarity: <b>1.0</b></p><p style='text-align:left;'>Target: <b>SUMO-1-specific protease</b></p><p style='text-align:left;'>Ligands: <b>Homo sapiens</b></p></td><td></td><td></td></tr><tr><td><h2>41</h2></td><td style='border-right:3px solid #aaa;vertical-align:top;'><img class='zoom2' src='img/render_9516_0.svg'></img><p style='text-align:left;'><b>9516</b></p><p style='text-align:left;'>Score: <b>93</b></p><p style='text-align:left;'>Potency: <b>1.58</b></p><p style='text-align:left;'>Efficacy: <b>221.73</b></p><p style='text-align:left;'>Weight: <b>243.28</b></p><p style='text-align:left;'>H-Acceptors: <b>4</b></p><p style='text-align:left;'>H-Donors: <b>0</b></p></td><td><h3 style='text-align:left;'>No targets found</h3></td><td></td><td></td><td></td><td></td></tr><tr><td><h2>42</h2></td><td style='border-right:3px solid #aaa;vertical-align:top;'><img class='zoom2' src='img/render_9605628_0.svg'></img><p style='text-align:left;'><b>9605628</b></p><p style='text-align:left;'>Score: <b>93</b></p><p style='text-align:left;'>Potency: <b>2.24</b></p><p style='text-align:left;'>Efficacy: <b>222.92</b></p><p style='text-align:left;'>Weight: <b>360.84</b></p><p style='text-align:left;'>H-Acceptors: <b>5</b></p><p style='text-align:left;'>H-Donors: <b>0</b></p></td><td><h3 style='text-align:left;'>No targets found</h3></td><td></td><td></td><td></td><td></td></tr><tr><td><h2>43</h2></td><td style='border-right:3px solid #aaa;vertical-align:top;'><img class='zoom2' src='img/render_1367387_0.svg'></img><p style='text-align:left;'><b>1367387</b></p><p style='text-align:left;'>Score: <b>93</b></p><p style='text-align:left;'>Potency: <b>3.98</b></p><p style='text-align:left;'>Efficacy: <b>257.05</b></p><p style='text-align:left;'>Weight: <b>366.60</b></p><p style='text-align:left;'>H-Acceptors: <b>5</b></p><p style='text-align:left;'>H-Donors: <b>0</b></p></td><td style='vertical-align:top;'><img class='zoom2' src='img/render_1367387_1.svg'></img><p style='text-align:left;'>Similarity: <b>1.0</b></p><p style='text-align:left;'>Target: <b>Sphingosine 1-phosphate receptor 1 (S1P1)</b></p><p style='text-align:left;'>Ligands: <b>Homo sapiens (Human)</b></p></td><td style='vertical-align:top;'><img class='zoom2' src='img/render_1367387_2.svg'></img><p style='text-align:left;'>Similarity: <b>1.0</b></p><p style='text-align:left;'>Target: <b>SKiNhead family member (skn-1)</b></p><p style='text-align:left;'>Ligands: <b>Caenorhabditis elegans</b></p></td><td style='vertical-align:top;'><img class='zoom2' src='img/render_1367387_3.svg'></img><p style='text-align:left;'>Similarity: <b>0.85586</b></p><p style='text-align:left;'>Target: <b>SUMO/sentrin specific peptidase family member 8</b></p><p style='text-align:left;'>Ligands: <b>Homo sapiens</b></p></td><td style='vertical-align:top;'><img class='zoom2' src='img/render_1367387_4.svg'></img><p style='text-align:left;'>Similarity: <b>0.85586</b></p><p style='text-align:left;'>Target: <b>SUMO-1-specific protease</b></p><p style='text-align:left;'>Ligands: <b>Homo sapiens</b></p></td><td style='vertical-align:top;'><img class='zoom2' src='img/render_1367387_5.svg'></img><p style='text-align:left;'>Similarity: <b>0.85586</b></p><p style='text-align:left;'>Target: <b>Nuclear factor NF-kappa-B</b></p><p style='text-align:left;'>Ligands: <b>Homo sapiens (Human)</b></p></td></tr><tr><td><h2>44</h2></td><td style='border-right:3px solid #aaa;vertical-align:top;'><img class='zoom2' src='img/render_9329256_0.svg'></img><p style='text-align:left;'><b>9329256</b></p><p style='text-align:left;'>Score: <b>93</b></p><p style='text-align:left;'>Potency: <b>1.41</b></p><p style='text-align:left;'>Efficacy: <b>197.05</b></p><p style='text-align:left;'>Weight: <b>283.38</b></p><p style='text-align:left;'>H-Acceptors: <b>2</b></p><p style='text-align:left;'>H-Donors: <b>2</b></p></td><td style='vertical-align:top;'><img class='zoom2' src='img/render_9329256_1.svg'></img><p style='text-align:left;'>Similarity: <b>1.0</b></p><p style='text-align:left;'>Target: <b>Group III secretory phopholipase A2</b></p><p style='text-align:left;'>Ligands: <b>Homo sapiens</b></p></td><td style='vertical-align:top;'><img class='zoom2' src='img/render_9329256_2.svg'></img><p style='text-align:left;'>Similarity: <b>0.84314</b></p><p style='text-align:left;'>Target: <b>Hsf1 protein</b></p><p style='text-align:left;'>Ligands: <b>Mus musculus</b></p></td><td></td><td></td><td></td></tr><tr><td><h2>45</h2></td><td style='border-right:3px solid #aaa;vertical-align:top;'><img class='zoom2' src='img/render_2447522_0.svg'></img><p style='text-align:left;'><b>2447522</b></p><p style='text-align:left;'>Score: <b>93</b></p><p style='text-align:left;'>Potency: <b>2.82</b></p><p style='text-align:left;'>Efficacy: <b>255.06</b></p><p style='text-align:left;'>Weight: <b>258.38</b></p><p style='text-align:left;'>H-Acceptors: <b>3</b></p><p style='text-align:left;'>H-Donors: <b>1</b></p></td><td style='vertical-align:top;'><img class='zoom2' src='img/render_2447522_1.svg'></img><p style='text-align:left;'>Similarity: <b>0.93182</b></p><p style='text-align:left;'>Target: <b>STAT3</b></p><p style='text-align:left;'>Ligands: <b>Homo sapiens</b></p></td><td style='vertical-align:top;'><img class='zoom2' src='img/render_2447522_2.svg'></img><p style='text-align:left;'>Similarity: <b>0.93182</b></p><p style='text-align:left;'>Target: <b>Nuclear factor NF-kappa-B</b></p><p style='text-align:left;'>Ligands: <b>Homo sapiens (Human)</b></p></td><td></td><td></td><td></td></tr><tr><td><h2>46</h2></td><td style='border-right:3px solid #aaa;vertical-align:top;'><img class='zoom2' src='img/render_3525081_0.svg'></img><p style='text-align:left;'><b>3525081</b></p><p style='text-align:left;'>Score: <b>93</b></p><p style='text-align:left;'>Potency: <b>1.78</b></p><p style='text-align:left;'>Efficacy: <b>223.32</b></p><p style='text-align:left;'>Weight: <b>341.38</b></p><p style='text-align:left;'>H-Acceptors: <b>6</b></p><p style='text-align:left;'>H-Donors: <b>1</b></p></td><td style='vertical-align:top;'><img class='zoom2' src='img/render_3525081_1.svg'></img><p style='text-align:left;'>Similarity: <b>0.82143</b></p><p style='text-align:left;'>Target: <b>Prostaglandin E2 receptor</b></p><p style='text-align:left;'>Ligands: <b>Homo sapiens (Human)</b></p></td><td style='vertical-align:top;'><img class='zoom2' src='img/render_3525081_2.svg'></img><p style='text-align:left;'>Similarity: <b>0.81944</b></p><p style='text-align:left;'>Target: <b>Prostaglandin E2 receptor</b></p><p style='text-align:left;'>Ligands: <b>Homo sapiens (Human)</b></p></td><td></td><td></td><td></td></tr><tr><td><h2>47</h2></td><td style='border-right:3px solid #aaa;vertical-align:top;'><img class='zoom2' src='img/render_603324_0.svg'></img><p style='text-align:left;'><b>603324</b></p><p style='text-align:left;'>Score: <b>93</b></p><p style='text-align:left;'>Potency: <b>1.12</b></p><p style='text-align:left;'>Efficacy: <b>195.83</b></p><p style='text-align:left;'>Weight: <b>355.03</b></p><p style='text-align:left;'>H-Acceptors: <b>1</b></p><p style='text-align:left;'>H-Donors: <b>1</b></p></td><td><h3 style='text-align:left;'>No targets found</h3></td><td></td><td></td><td></td><td></td></tr><tr><td><h2>48</h2></td><td style='border-right:3px solid #aaa;vertical-align:top;'><img class='zoom2' src='img/render_75522_0.svg'></img><p style='text-align:left;'><b>75522</b></p><p style='text-align:left;'>Score: <b>93</b></p><p style='text-align:left;'>Potency: <b>2.00</b></p><p style='text-align:left;'>Efficacy: <b>196.19</b></p><p style='text-align:left;'>Weight: <b>304.37</b></p><p style='text-align:left;'>H-Acceptors: <b>6</b></p><p style='text-align:left;'>H-Donors: <b>1</b></p></td><td style='vertical-align:top;'><img class='zoom2' src='img/render_75522_1.svg'></img><p style='text-align:left;'>Similarity: <b>1.0</b></p><p style='text-align:left;'>Target: <b>Carbonic anhydrase 7</b></p><p style='text-align:left;'>Ligands: <b>Homo sapiens (human)</b></p></td><td style='vertical-align:top;'><img class='zoom2' src='img/render_75522_2.svg'></img><p style='text-align:left;'>Similarity: <b>1.0</b></p><p style='text-align:left;'>Target: <b>Carbonic anhydrase 9</b></p><p style='text-align:left;'>Ligands: <b>Homo sapiens (human)</b></p></td><td style='vertical-align:top;'><img class='zoom2' src='img/render_75522_3.svg'></img><p style='text-align:left;'>Similarity: <b>1.0</b></p><p style='text-align:left;'>Target: <b>Carbonic anhydrase 2</b></p><p style='text-align:left;'>Ligands: <b>Homo sapiens (human)</b></p></td><td style='vertical-align:top;'><img class='zoom2' src='img/render_75522_4.svg'></img><p style='text-align:left;'>Similarity: <b>1.0</b></p><p style='text-align:left;'>Target: <b>Glycogen synthase kinase-3</b></p><p style='text-align:left;'>Ligands: <b>Homo sapiens (human)</b></p></td><td style='vertical-align:top;'><img class='zoom2' src='img/render_75522_5.svg'></img><p style='text-align:left;'>Similarity: <b>1.0</b></p><p style='text-align:left;'>Target: <b>Carbonic anhydrase</b></p><p style='text-align:left;'>Ligands: <b>Homo sapiens (human)</b></p></td></tr><tr><td><h2>49</h2></td><td style='border-right:3px solid #aaa;vertical-align:top;'><img class='zoom2' src='img/render_9567292_0.svg'></img><p style='text-align:left;'><b>9567292</b></p><p style='text-align:left;'>Score: <b>93</b></p><p style='text-align:left;'>Potency: <b>2.51</b></p><p style='text-align:left;'>Efficacy: <b>250.96</b></p><p style='text-align:left;'>Weight: <b>384.61</b></p><p style='text-align:left;'>H-Acceptors: <b>5</b></p><p style='text-align:left;'>H-Donors: <b>1</b></p></td><td style='vertical-align:top;'><img class='zoom2' src='img/render_9567292_1.svg'></img><p style='text-align:left;'>Similarity: <b>1.0</b></p><p style='text-align:left;'>Target: <b>Nuclear factor NF-kappa-B</b></p><p style='text-align:left;'>Ligands: <b>Homo sapiens (Human)</b></p></td><td></td><td></td><td></td><td></td></tr><tr><td><h2>50</h2></td><td style='border-right:3px solid #aaa;vertical-align:top;'><img class='zoom2' src='img/render_754908_0.svg'></img><p style='text-align:left;'><b>754908</b></p><p style='text-align:left;'>Score: <b>93</b></p><p style='text-align:left;'>Potency: <b>1.41</b></p><p style='text-align:left;'>Efficacy: <b>204.69</b></p><p style='text-align:left;'>Weight: <b>343.79</b></p><p style='text-align:left;'>H-Acceptors: <b>3</b></p><p style='text-align:left;'>H-Donors: <b>0</b></p></td><td style='vertical-align:top;'><img class='zoom2' src='img/render_754908_1.svg'></img><p style='text-align:left;'>Similarity: <b>1.0</b></p><p style='text-align:left;'>Target: <b>Phosphodiesterase 11A (PDE11A)</b></p><p style='text-align:left;'>Ligands: <b>Homo sapiens (Human)</b></p></td><td style='vertical-align:top;'><img class='zoom2' src='img/render_754908_2.svg'></img><p style='text-align:left;'>Similarity: <b>0.85567</b></p><p style='text-align:left;'>Target: <b>Phosphodiesterase 11A (PDE11A)</b></p><p style='text-align:left;'>Ligands: <b>Homo sapiens (Human)</b></p></td><td style='vertical-align:top;'><img class='zoom2' src='img/render_754908_3.svg'></img><p style='text-align:left;'>Similarity: <b>0.84561</b></p><p style='text-align:left;'>Target: <b>Phosphodiesterase 4A (PDE4A1)</b></p><p style='text-align:left;'>Ligands: <b>Homo sapiens (Human)</b></p></td><td style='vertical-align:top;'><img class='zoom2' src='img/render_754908_4.svg'></img><p style='text-align:left;'>Similarity: <b>0.84561</b></p><p style='text-align:left;'>Target: <b>Phosphodiesterase 9A</b></p><p style='text-align:left;'>Ligands: <b>Homo sapiens (human)</b></p></td><td style='vertical-align:top;'><img class='zoom2' src='img/render_754908_5.svg'></img><p style='text-align:left;'>Similarity: <b>0.84561</b></p><p style='text-align:left;'>Target: <b>Phosphodiesterase 1</b></p><p style='text-align:left;'>Ligands: <b>Homo sapiens (human)</b></p></td></tr><tr><td><h2>51</h2></td><td style='border-right:3px solid #aaa;vertical-align:top;'><img class='zoom2' src='img/render_2223231_0.svg'></img><p style='text-align:left;'><b>2223231</b></p><p style='text-align:left;'>Score: <b>93</b></p><p style='text-align:left;'>Potency: <b>2.82</b></p><p style='text-align:left;'>Efficacy: <b>268.80</b></p><p style='text-align:left;'>Weight: <b>304.35</b></p><p style='text-align:left;'>H-Acceptors: <b>4</b></p><p style='text-align:left;'>H-Donors: <b>2</b></p></td><td><h3 style='text-align:left;'>No targets found</h3></td><td></td><td></td><td></td><td></td></tr><tr><td><h2>52</h2></td><td style='border-right:3px solid #aaa;vertical-align:top;'><img class='zoom2' src='img/render_5173595_0.svg'></img><p style='text-align:left;'><b>5173595</b></p><p style='text-align:left;'>Score: <b>93</b></p><p style='text-align:left;'>Potency: <b>2.24</b></p><p style='text-align:left;'>Efficacy: <b>233.43</b></p><p style='text-align:left;'>Weight: <b>373.53</b></p><p style='text-align:left;'>H-Acceptors: <b>5</b></p><p style='text-align:left;'>H-Donors: <b>0</b></p></td><td style='vertical-align:top;'><img class='zoom2' src='img/render_5173595_1.svg'></img><p style='text-align:left;'>Similarity: <b>0.88221</b></p><p style='text-align:left;'>Target: <b>Tyrosine-protein kinase ABL1</b></p><p style='text-align:left;'>Ligands: <b>Homo sapiens (Human)</b></p></td><td style='vertical-align:top;'><img class='zoom2' src='img/render_5173595_2.svg'></img><p style='text-align:left;'>Similarity: <b>0.88221</b></p><p style='text-align:left;'>Target: <b>diphosphomevalonate decarboxylase</b></p><p style='text-align:left;'>Ligands: <b>Streptococcus pneumoniae D39</b></p></td><td></td><td></td><td></td></tr><tr><td><h2>53</h2></td><td style='border-right:3px solid #aaa;vertical-align:top;'><img class='zoom2' src='img/render_3527790_0.svg'></img><p style='text-align:left;'><b>3527790</b></p><p style='text-align:left;'>Score: <b>93</b></p><p style='text-align:left;'>Potency: <b>1.12</b></p><p style='text-align:left;'>Efficacy: <b>195.42</b></p><p style='text-align:left;'>Weight: <b>405.55</b></p><p style='text-align:left;'>H-Acceptors: <b>8</b></p><p style='text-align:left;'>H-Donors: <b>1</b></p></td><td style='vertical-align:top;'><img class='zoom2' src='img/render_3527790_1.svg'></img><p style='text-align:left;'>Similarity: <b>1.0</b></p><p style='text-align:left;'>Target: <b>Liver X receptor beta (LXRB)</b></p><p style='text-align:left;'>Ligands: <b>Homo sapiens (Human)</b></p></td><td style='vertical-align:top;'><img class='zoom2' src='img/render_3527790_2.svg'></img><p style='text-align:left;'>Similarity: <b>0.93633</b></p><p style='text-align:left;'>Target: <b>phosphomevalonate kinase</b></p><p style='text-align:left;'>Ligands: <b>Streptococcus pneumoniae D39</b></p></td><td style='vertical-align:top;'><img class='zoom2' src='img/render_3527790_3.svg'></img><p style='text-align:left;'>Similarity: <b>0.88028</b></p><p style='text-align:left;'>Target: <b>carboxy-terminal domain RNA polymerase II polypeptide A small phosphatase 1 isoform 1</b></p><p style='text-align:left;'>Ligands: <b>Homo sapiens</b></p></td><td></td><td></td></tr><tr><td><h2>54</h2></td><td style='border-right:3px solid #aaa;vertical-align:top;'><img class='zoom2' src='img/render_6100060_0.svg'></img><p style='text-align:left;'><b>6100060</b></p><p style='text-align:left;'>Score: <b>93</b></p><p style='text-align:left;'>Potency: <b>1.58</b></p><p style='text-align:left;'>Efficacy: <b>198.85</b></p><p style='text-align:left;'>Weight: <b>307.35</b></p><p style='text-align:left;'>H-Acceptors: <b>4</b></p><p style='text-align:left;'>H-Donors: <b>3</b></p></td><td><h3 style='text-align:left;'>No targets found</h3></td><td></td><td></td><td></td><td></td></tr><tr><td><h2>55</h2></td><td style='border-right:3px solid #aaa;vertical-align:top;'><img class='zoom2' src='img/render_4042008_0.svg'></img><p style='text-align:left;'><b>4042008</b></p><p style='text-align:left;'>Score: <b>93</b></p><p style='text-align:left;'>Potency: <b>2.51</b></p><p style='text-align:left;'>Efficacy: <b>236.90</b></p><p style='text-align:left;'>Weight: <b>323.35</b></p><p style='text-align:left;'>H-Acceptors: <b>5</b></p><p style='text-align:left;'>H-Donors: <b>1</b></p></td><td style='vertical-align:top;'><img class='zoom2' src='img/render_4042008_1.svg'></img><p style='text-align:left;'>Similarity: <b>0.90972</b></p><p style='text-align:left;'>Target: <b>Nuclear factor NF-kappa-B</b></p><p style='text-align:left;'>Ligands: <b>Homo sapiens (Human)</b></p></td><td></td><td></td><td></td><td></td></tr><tr><td><h2>56</h2></td><td style='border-right:3px solid #aaa;vertical-align:top;'><img class='zoom2' src='img/render_65182_0.svg'></img><p style='text-align:left;'><b>65182</b></p><p style='text-align:left;'>Score: <b>93</b></p><p style='text-align:left;'>Potency: <b>0.89</b></p><p style='text-align:left;'>Efficacy: <b>161.93</b></p><p style='text-align:left;'>Weight: <b>318.38</b></p><p style='text-align:left;'>H-Acceptors: <b>4</b></p><p style='text-align:left;'>H-Donors: <b>0</b></p></td><td style='vertical-align:top;'><img class='zoom2' src='img/render_65182_1.svg'></img><p style='text-align:left;'>Similarity: <b>1.0</b></p><p style='text-align:left;'>Target: <b>G-protein coupled receptor 55</b></p><p style='text-align:left;'>Ligands: <b>Homo sapiens</b></p></td><td></td><td></td><td></td><td></td></tr><tr><td><h2>57</h2></td><td style='border-right:3px solid #aaa;vertical-align:top;'><img class='zoom2' src='img/render_740785_0.svg'></img><p style='text-align:left;'><b>740785</b></p><p style='text-align:left;'>Score: <b>93</b></p><p style='text-align:left;'>Potency: <b>3.16</b></p><p style='text-align:left;'>Efficacy: <b>255.40</b></p><p style='text-align:left;'>Weight: <b>318.78</b></p><p style='text-align:left;'>H-Acceptors: <b>3</b></p><p style='text-align:left;'>H-Donors: <b>1</b></p></td><td><h3 style='text-align:left;'>No targets found</h3></td><td></td><td></td><td></td><td></td></tr><tr><td><h2>58</h2></td><td style='border-right:3px solid #aaa;vertical-align:top;'><img class='zoom2' src='img/render_721034_0.svg'></img><p style='text-align:left;'><b>721034</b></p><p style='text-align:left;'>Score: <b>93</b></p><p style='text-align:left;'>Potency: <b>2.82</b></p><p style='text-align:left;'>Efficacy: <b>242.24</b></p><p style='text-align:left;'>Weight: <b>315.38</b></p><p style='text-align:left;'>H-Acceptors: <b>4</b></p><p style='text-align:left;'>H-Donors: <b>1</b></p></td><td style='vertical-align:top;'><img class='zoom2' src='img/render_721034_1.svg'></img><p style='text-align:left;'>Similarity: <b>0.84016</b></p><p style='text-align:left;'>Target: <b>streptokinase A precursor</b></p><p style='text-align:left;'>Ligands: <b>Streptococcus pyogenes M1 GAS</b></p></td><td style='vertical-align:top;'><img class='zoom2' src='img/render_721034_2.svg'></img><p style='text-align:left;'>Similarity: <b>0.81919</b></p><p style='text-align:left;'>Target: <b>MAP kinase p38</b></p><p style='text-align:left;'>Ligands: <b>Homo sapiens (human)</b></p></td><td style='vertical-align:top;'><img class='zoom2' src='img/render_721034_3.svg'></img><p style='text-align:left;'>Similarity: <b>0.79286</b></p><p style='text-align:left;'>Target: <b>MAP kinase p38</b></p><p style='text-align:left;'>Ligands: <b>Homo sapiens (human)</b></p></td><td></td><td></td></tr><tr><td><h2>59</h2></td><td style='border-right:3px solid #aaa;vertical-align:top;'><img class='zoom2' src='img/render_885337_0.svg'></img><p style='text-align:left;'><b>885337</b></p><p style='text-align:left;'>Score: <b>93</b></p><p style='text-align:left;'>Potency: <b>2.82</b></p><p style='text-align:left;'>Efficacy: <b>238.86</b></p><p style='text-align:left;'>Weight: <b>296.32</b></p><p style='text-align:left;'>H-Acceptors: <b>4</b></p><p style='text-align:left;'>H-Donors: <b>0</b></p></td><td style='vertical-align:top;'><img class='zoom2' src='img/render_885337_1.svg'></img><p style='text-align:left;'>Similarity: <b>0.94798</b></p><p style='text-align:left;'>Target: <b>SUMO-1-specific protease</b></p><p style='text-align:left;'>Ligands: <b>Homo sapiens</b></p></td><td style='vertical-align:top;'><img class='zoom2' src='img/render_885337_2.svg'></img><p style='text-align:left;'>Similarity: <b>0.94798</b></p><p style='text-align:left;'>Target: <b>SUMO/sentrin specific peptidase family member 8</b></p><p style='text-align:left;'>Ligands: <b>Homo sapiens</b></p></td><td style='vertical-align:top;'><img class='zoom2' src='img/render_885337_3.svg'></img><p style='text-align:left;'>Similarity: <b>0.94798</b></p><p style='text-align:left;'>Target: <b>Caspase-3</b></p><p style='text-align:left;'>Ligands: <b>Homo sapiens (human)</b></p></td><td style='vertical-align:top;'><img class='zoom2' src='img/render_885337_4.svg'></img><p style='text-align:left;'>Similarity: <b>0.94798</b></p><p style='text-align:left;'>Target: <b>Monoamine oxidase</b></p><p style='text-align:left;'>Ligands: <b>Homo sapiens (Human)</b></p></td><td style='vertical-align:top;'><img class='zoom2' src='img/render_885337_5.svg'></img><p style='text-align:left;'>Similarity: <b>0.94798</b></p><p style='text-align:left;'>Target: <b>Monoamine oxidase</b></p><p style='text-align:left;'>Ligands: <b>Rattus norvegicus (rat)</b></p></td></tr><tr><td><h2>60</h2></td><td style='border-right:3px solid #aaa;vertical-align:top;'><img class='zoom2' src='img/render_1009261_0.svg'></img><p style='text-align:left;'><b>1009261</b></p><p style='text-align:left;'>Score: <b>93</b></p><p style='text-align:left;'>Potency: <b>2.24</b></p><p style='text-align:left;'>Efficacy: <b>225.66</b></p><p style='text-align:left;'>Weight: <b>359.02</b></p><p style='text-align:left;'>H-Acceptors: <b>2</b></p><p style='text-align:left;'>H-Donors: <b>1</b></p></td><td style='vertical-align:top;'><img class='zoom2' src='img/render_1009261_1.svg'></img><p style='text-align:left;'>Similarity: <b>1.0</b></p><p style='text-align:left;'>Target: <b>Nuclear factor NF-kappa-B</b></p><p style='text-align:left;'>Ligands: <b>Homo sapiens (Human)</b></p></td><td style='vertical-align:top;'><img class='zoom2' src='img/render_1009261_2.svg'></img><p style='text-align:left;'>Similarity: <b>0.87634</b></p><p style='text-align:left;'>Target: <b>Nuclear factor NF-kappa-B</b></p><p style='text-align:left;'>Ligands: <b>Homo sapiens (Human)</b></p></td><td></td><td></td><td></td></tr><tr><td><h2>61</h2></td><td style='border-right:3px solid #aaa;vertical-align:top;'><img class='zoom2' src='img/render_2333953_0.svg'></img><p style='text-align:left;'><b>2333953</b></p><p style='text-align:left;'>Score: <b>93</b></p><p style='text-align:left;'>Potency: <b>2.00</b></p><p style='text-align:left;'>Efficacy: <b>225.03</b></p><p style='text-align:left;'>Weight: <b>339.39</b></p><p style='text-align:left;'>H-Acceptors: <b>4</b></p><p style='text-align:left;'>H-Donors: <b>0</b></p></td><td><h3 style='text-align:left;'>No targets found</h3></td><td></td><td></td><td></td><td></td></tr><tr><td><h2>62</h2></td><td style='border-right:3px solid #aaa;vertical-align:top;'><img class='zoom2' src='img/render_16682637_0.svg'></img><p style='text-align:left;'><b>16682637</b></p><p style='text-align:left;'>Score: <b>93</b></p><p style='text-align:left;'>Potency: <b>2.51</b></p><p style='text-align:left;'>Efficacy: <b>245.78</b></p><p style='text-align:left;'>Weight: <b>349.39</b></p><p style='text-align:left;'>H-Acceptors: <b>4</b></p><p style='text-align:left;'>H-Donors: <b>1</b></p></td><td style='vertical-align:top;'><img class='zoom2' src='img/render_16682637_1.svg'></img><p style='text-align:left;'>Similarity: <b>1.0</b></p><p style='text-align:left;'>Target: <b>tumor necrosis factor receptor superfamily member 10B isoform 1 precursor [Homo sapiens]</b></p><p style='text-align:left;'>Ligands: <b>Homo sapiens</b></p></td><td style='vertical-align:top;'><img class='zoom2' src='img/render_16682637_2.svg'></img><p style='text-align:left;'>Similarity: <b>0.90981</b></p><p style='text-align:left;'>Target: <b>Serine/threonine-protein kinase 33</b></p><p style='text-align:left;'>Ligands: <b>Homo sapiens</b></p></td><td style='vertical-align:top;'><img class='zoom2' src='img/render_16682637_3.svg'></img><p style='text-align:left;'>Similarity: <b>0.90981</b></p><p style='text-align:left;'>Target: <b>TPA: Essential protein of the mitochondrial intermembrane space</b></p><p style='text-align:left;'>Ligands: <b>Saccharomyces cerevisiae S288c</b></p></td><td style='vertical-align:top;'><img class='zoom2' src='img/render_16682637_4.svg'></img><p style='text-align:left;'>Similarity: <b>0.90981</b></p><p style='text-align:left;'>Target: <b>TPA: Essential component of the Translocase of the Inner Mitochondrial membrane (TIM23 complex)</b></p><p style='text-align:left;'>Ligands: <b>Saccharomyces cerevisiae S288c</b></p></td><td style='vertical-align:top;'><img class='zoom2' src='img/render_16682637_5.svg'></img><p style='text-align:left;'>Similarity: <b>0.90981</b></p><p style='text-align:left;'>Target: <b>streptokinase A precursor</b></p><p style='text-align:left;'>Ligands: <b>Streptococcus pyogenes M1 GAS</b></p></td></tr><tr><td><h2>63</h2></td><td style='border-right:3px solid #aaa;vertical-align:top;'><img class='zoom2' src='img/render_5106913_0.svg'></img><p style='text-align:left;'><b>5106913</b></p><p style='text-align:left;'>Score: <b>93</b></p><p style='text-align:left;'>Potency: <b>2.51</b></p><p style='text-align:left;'>Efficacy: <b>221.48</b></p><p style='text-align:left;'>Weight: <b>308.34</b></p><p style='text-align:left;'>H-Acceptors: <b>3</b></p><p style='text-align:left;'>H-Donors: <b>1</b></p></td><td><h3 style='text-align:left;'>No targets found</h3></td><td></td><td></td><td></td><td></td></tr><tr><td><h2>64</h2></td><td style='border-right:3px solid #aaa;vertical-align:top;'><img class='zoom2' src='img/render_12515961_0.svg'></img><p style='text-align:left;'><b>12515961</b></p><p style='text-align:left;'>Score: <b>93</b></p><p style='text-align:left;'>Potency: <b>2.51</b></p><p style='text-align:left;'>Efficacy: <b>251.30</b></p><p style='text-align:left;'>Weight: <b>304.73</b></p><p style='text-align:left;'>H-Acceptors: <b>4</b></p><p style='text-align:left;'>H-Donors: <b>1</b></p></td><td style='vertical-align:top;'><img class='zoom2' src='img/render_12515961_1.svg'></img><p style='text-align:left;'>Similarity: <b>1.0</b></p><p style='text-align:left;'>Target: <b>TPA: Essential protein of the mitochondrial intermembrane space</b></p><p style='text-align:left;'>Ligands: <b>Saccharomyces cerevisiae S288c</b></p></td><td style='vertical-align:top;'><img class='zoom2' src='img/render_12515961_2.svg'></img><p style='text-align:left;'>Similarity: <b>1.0</b></p><p style='text-align:left;'>Target: <b>TPA: Essential component of the Translocase of the Inner Mitochondrial membrane (TIM23 complex)</b></p><p style='text-align:left;'>Ligands: <b>Saccharomyces cerevisiae S288c</b></p></td><td style='vertical-align:top;'><img class='zoom2' src='img/render_12515961_3.svg'></img><p style='text-align:left;'>Similarity: <b>0.8875</b></p><p style='text-align:left;'>Target: <b>Serine/threonine-protein kinase 33</b></p><p style='text-align:left;'>Ligands: <b>Homo sapiens</b></p></td><td style='vertical-align:top;'><img class='zoom2' src='img/render_12515961_4.svg'></img><p style='text-align:left;'>Similarity: <b>0.81818</b></p><p style='text-align:left;'>Target: <b>TPA: Essential protein of the mitochondrial intermembrane space</b></p><p style='text-align:left;'>Ligands: <b>Saccharomyces cerevisiae S288c</b></p></td><td style='vertical-align:top;'><img class='zoom2' src='img/render_12515961_5.svg'></img><p style='text-align:left;'>Similarity: <b>0.81818</b></p><p style='text-align:left;'>Target: <b>TPA: Essential component of the Translocase of the Inner Mitochondrial membrane (TIM23 complex)</b></p><p style='text-align:left;'>Ligands: <b>Saccharomyces cerevisiae S288c</b></p></td></tr><tr><td><h2>65</h2></td><td style='border-right:3px solid #aaa;vertical-align:top;'><img class='zoom2' src='img/render_975008_0.svg'></img><p style='text-align:left;'><b>975008</b></p><p style='text-align:left;'>Score: <b>93</b></p><p style='text-align:left;'>Potency: <b>3.16</b></p><p style='text-align:left;'>Efficacy: <b>270.66</b></p><p style='text-align:left;'>Weight: <b>315.30</b></p><p style='text-align:left;'>H-Acceptors: <b>6</b></p><p style='text-align:left;'>H-Donors: <b>1</b></p></td><td style='vertical-align:top;'><img class='zoom2' src='img/render_975008_1.svg'></img><p style='text-align:left;'>Similarity: <b>1.0</b></p><p style='text-align:left;'>Target: <b>STAT3</b></p><p style='text-align:left;'>Ligands: <b>Homo sapiens</b></p></td><td style='vertical-align:top;'><img class='zoom2' src='img/render_975008_2.svg'></img><p style='text-align:left;'>Similarity: <b>1.0</b></p><p style='text-align:left;'>Target: <b>POsterior Segregation family member (pos-1)</b></p><p style='text-align:left;'>Ligands: <b>Caenorhabditis elegans</b></p></td><td style='vertical-align:top;'><img class='zoom2' src='img/render_975008_3.svg'></img><p style='text-align:left;'>Similarity: <b>1.0</b></p><p style='text-align:left;'>Target: <b>RecName: Full=Zinc finger protein mex-5</b></p><p style='text-align:left;'>Ligands: <b>Caenorhabditis elegans</b></p></td><td></td><td></td></tr><tr><td><h2>66</h2></td><td style='border-right:3px solid #aaa;vertical-align:top;'><img class='zoom2' src='img/render_958680_0.svg'></img><p style='text-align:left;'><b>958680</b></p><p style='text-align:left;'>Score: <b>93</b></p><p style='text-align:left;'>Potency: <b>2.51</b></p><p style='text-align:left;'>Efficacy: <b>262.21</b></p><p style='text-align:left;'>Weight: <b>305.29</b></p><p style='text-align:left;'>H-Acceptors: <b>4</b></p><p style='text-align:left;'>H-Donors: <b>1</b></p></td><td style='vertical-align:top;'><img class='zoom2' src='img/render_958680_1.svg'></img><p style='text-align:left;'>Similarity: <b>1.0</b></p><p style='text-align:left;'>Target: <b>neutrophil cytosolic factor 1</b></p><p style='text-align:left;'>Ligands: <b>Homo sapiens</b></p></td><td style='vertical-align:top;'><img class='zoom2' src='img/render_958680_2.svg'></img><p style='text-align:left;'>Similarity: <b>0.79817</b></p><p style='text-align:left;'>Target: <b>Nuclear factor NF-kappa-B</b></p><p style='text-align:left;'>Ligands: <b>Homo sapiens (Human)</b></p></td><td style='vertical-align:top;'><img class='zoom2' src='img/render_958680_3.svg'></img><p style='text-align:left;'>Similarity: <b>0.73913</b></p><p style='text-align:left;'>Target: <b>Adenosine receptors; A1 & A2a</b></p><p style='text-align:left;'>Ligands: <b>Homo sapiens (human)</b></p></td><td style='vertical-align:top;'><img class='zoom2' src='img/render_958680_4.svg'></img><p style='text-align:left;'>Similarity: <b>0.73913</b></p><p style='text-align:left;'>Target: <b>Adenosine receptor A3</b></p><p style='text-align:left;'>Ligands: <b>Homo sapiens (human)</b></p></td><td></td></tr><tr><td><h2>67</h2></td><td style='border-right:3px solid #aaa;vertical-align:top;'><img class='zoom2' src='img/render_341156_0.svg'></img><p style='text-align:left;'><b>341156</b></p><p style='text-align:left;'>Score: <b>93</b></p><p style='text-align:left;'>Potency: <b>1.78</b></p><p style='text-align:left;'>Efficacy: <b>224.72</b></p><p style='text-align:left;'>Weight: <b>290.14</b></p><p style='text-align:left;'>H-Acceptors: <b>1</b></p><p style='text-align:left;'>H-Donors: <b>1</b></p></td><td style='vertical-align:top;'><img class='zoom2' src='img/render_341156_1.svg'></img><p style='text-align:left;'>Similarity: <b>0.81437</b></p><p style='text-align:left;'>Target: <b>Bile acid receptor FXR</b></p><p style='text-align:left;'>Ligands: <b>Homo sapiens (human)</b></p></td><td></td><td></td><td></td><td></td></tr><tr><td><h2>68</h2></td><td style='border-right:3px solid #aaa;vertical-align:top;'><img class='zoom2' src='img/render_3241419_0.svg'></img><p style='text-align:left;'><b>3241419</b></p><p style='text-align:left;'>Score: <b>93</b></p><p style='text-align:left;'>Potency: <b>1.78</b></p><p style='text-align:left;'>Efficacy: <b>224.30</b></p><p style='text-align:left;'>Weight: <b>309.16</b></p><p style='text-align:left;'>H-Acceptors: <b>3</b></p><p style='text-align:left;'>H-Donors: <b>1</b></p></td><td style='vertical-align:top;'><img class='zoom2' src='img/render_3241419_1.svg'></img><p style='text-align:left;'>Similarity: <b>0.93981</b></p><p style='text-align:left;'>Target: <b>Complement C1s</b></p><p style='text-align:left;'>Ligands: <b>Homo sapiens (Human)</b></p></td><td style='vertical-align:top;'><img class='zoom2' src='img/render_3241419_2.svg'></img><p style='text-align:left;'>Similarity: <b>0.93119</b></p><p style='text-align:left;'>Target: <b>streptokinase A precursor</b></p><p style='text-align:left;'>Ligands: <b>Streptococcus pyogenes M1 GAS</b></p></td><td style='vertical-align:top;'><img class='zoom2' src='img/render_3241419_3.svg'></img><p style='text-align:left;'>Similarity: <b>0.92273</b></p><p style='text-align:left;'>Target: <b>STAT3</b></p><p style='text-align:left;'>Ligands: <b>Homo sapiens</b></p></td><td style='vertical-align:top;'><img class='zoom2' src='img/render_3241419_4.svg'></img><p style='text-align:left;'>Similarity: <b>0.92105</b></p><p style='text-align:left;'>Target: <b>Anandamide amidohydrolase</b></p><p style='text-align:left;'>Ligands: <b>Homo sapiens (human)</b></p></td><td style='vertical-align:top;'><img class='zoom2' src='img/render_3241419_5.svg'></img><p style='text-align:left;'>Similarity: <b>0.87671</b></p><p style='text-align:left;'>Target: <b>Peripheral-Type Benzodiazepine Receptor</b></p><p style='text-align:left;'>Ligands: <b>Rattus norvegicus (rat)</b></p></td></tr><tr><td><h2>69</h2></td><td style='border-right:3px solid #aaa;vertical-align:top;'><img class='zoom2' src='img/render_4201998_0.svg'></img><p style='text-align:left;'><b>4201998</b></p><p style='text-align:left;'>Score: <b>92</b></p><p style='text-align:left;'>Potency: <b>2.24</b></p><p style='text-align:left;'>Efficacy: <b>215.97</b></p><p style='text-align:left;'>Weight: <b>328.80</b></p><p style='text-align:left;'>H-Acceptors: <b>3</b></p><p style='text-align:left;'>H-Donors: <b>0</b></p></td><td style='vertical-align:top;'><img class='zoom2' src='img/render_4201998_1.svg'></img><p style='text-align:left;'>Similarity: <b>0.88581</b></p><p style='text-align:left;'>Target: <b>diphosphomevalonate decarboxylase</b></p><p style='text-align:left;'>Ligands: <b>Streptococcus pneumoniae D39</b></p></td><td style='vertical-align:top;'><img class='zoom2' src='img/render_4201998_2.svg'></img><p style='text-align:left;'>Similarity: <b>0.85862</b></p><p style='text-align:left;'>Target: <b>Estrogen receptor</b></p><p style='text-align:left;'>Ligands: <b>Homo sapiens (human)</b></p></td><td style='vertical-align:top;'><img class='zoom2' src='img/render_4201998_3.svg'></img><p style='text-align:left;'>Similarity: <b>0.85862</b></p><p style='text-align:left;'>Target: <b>Gag-Pol polyprotein</b></p><p style='text-align:left;'>Ligands: <b>Human immunodeficiency virus type 1 group M subtype B (isolate HXB2)</b></p></td><td></td><td></td></tr><tr><td><h2>70</h2></td><td style='border-right:3px solid #aaa;vertical-align:top;'><img class='zoom2' src='img/render_5903277_0.svg'></img><p style='text-align:left;'><b>5903277</b></p><p style='text-align:left;'>Score: <b>92</b></p><p style='text-align:left;'>Potency: <b>2.51</b></p><p style='text-align:left;'>Efficacy: <b>215.58</b></p><p style='text-align:left;'>Weight: <b>301.35</b></p><p style='text-align:left;'>H-Acceptors: <b>5</b></p><p style='text-align:left;'>H-Donors: <b>1</b></p></td><td><h3 style='text-align:left;'>No targets found</h3></td><td></td><td></td><td></td><td></td></tr><tr><td><h2>71</h2></td><td style='border-right:3px solid #aaa;vertical-align:top;'><img class='zoom2' src='img/render_2812969_0.svg'></img><p style='text-align:left;'><b>2812969</b></p><p style='text-align:left;'>Score: <b>92</b></p><p style='text-align:left;'>Potency: <b>2.82</b></p><p style='text-align:left;'>Efficacy: <b>218.58</b></p><p style='text-align:left;'>Weight: <b>254.33</b></p><p style='text-align:left;'>H-Acceptors: <b>2</b></p><p style='text-align:left;'>H-Donors: <b>1</b></p></td><td><h3 style='text-align:left;'>No targets found</h3></td><td></td><td></td><td></td><td></td></tr><tr><td><h2>72</h2></td><td style='border-right:3px solid #aaa;vertical-align:top;'><img class='zoom2' src='img/render_16745782_0.svg'></img><p style='text-align:left;'><b>16745782</b></p><p style='text-align:left;'>Score: <b>92</b></p><p style='text-align:left;'>Potency: <b>3.16</b></p><p style='text-align:left;'>Efficacy: <b>203.68</b></p><p style='text-align:left;'>Weight: <b>343.77</b></p><p style='text-align:left;'>H-Acceptors: <b>4</b></p><p style='text-align:left;'>H-Donors: <b>2</b></p></td><td style='vertical-align:top;'><img class='zoom2' src='img/render_16745782_1.svg'></img><p style='text-align:left;'>Similarity: <b>0.97765</b></p><p style='text-align:left;'>Target: <b>Caspase-3</b></p><p style='text-align:left;'>Ligands: <b>Homo sapiens (human)</b></p></td><td style='vertical-align:top;'><img class='zoom2' src='img/render_16745782_2.svg'></img><p style='text-align:left;'>Similarity: <b>0.97765</b></p><p style='text-align:left;'>Target: <b>SUMO-1-specific protease</b></p><p style='text-align:left;'>Ligands: <b>Homo sapiens</b></p></td><td style='vertical-align:top;'><img class='zoom2' src='img/render_16745782_3.svg'></img><p style='text-align:left;'>Similarity: <b>0.97765</b></p><p style='text-align:left;'>Target: <b>SUMO/sentrin specific peptidase family member 8</b></p><p style='text-align:left;'>Ligands: <b>Homo sapiens</b></p></td><td style='vertical-align:top;'><img class='zoom2' src='img/render_16745782_4.svg'></img><p style='text-align:left;'>Similarity: <b>0.89946</b></p><p style='text-align:left;'>Target: <b>Serine/threonine-protein kinase 33</b></p><p style='text-align:left;'>Ligands: <b>Homo sapiens</b></p></td><td style='vertical-align:top;'><img class='zoom2' src='img/render_16745782_5.svg'></img><p style='text-align:left;'>Similarity: <b>0.86885</b></p><p style='text-align:left;'>Target: <b>Glycogen synthase kinase-3</b></p><p style='text-align:left;'>Ligands: <b>Homo sapiens (human)</b></p></td></tr><tr><td><h2>73</h2></td><td style='border-right:3px solid #aaa;vertical-align:top;'><img class='zoom2' src='img/render_2110942_0.svg'></img><p style='text-align:left;'><b>2110942</b></p><p style='text-align:left;'>Score: <b>92</b></p><p style='text-align:left;'>Potency: <b>3.16</b></p><p style='text-align:left;'>Efficacy: <b>241.86</b></p><p style='text-align:left;'>Weight: <b>265.32</b></p><p style='text-align:left;'>H-Acceptors: <b>3</b></p><p style='text-align:left;'>H-Donors: <b>1</b></p></td><td style='vertical-align:top;'><img class='zoom2' src='img/render_2110942_1.svg'></img><p style='text-align:left;'>Similarity: <b>1.0</b></p><p style='text-align:left;'>Target: <b>Glycogen synthase kinase-3</b></p><p style='text-align:left;'>Ligands: <b>Homo sapiens (human)</b></p></td><td></td><td></td><td></td><td></td></tr><tr><td><h2>74</h2></td><td style='border-right:3px solid #aaa;vertical-align:top;'><img class='zoom2' src='img/render_2324886_0.svg'></img><p style='text-align:left;'><b>2324886</b></p><p style='text-align:left;'>Score: <b>92</b></p><p style='text-align:left;'>Potency: <b>3.98</b></p><p style='text-align:left;'>Efficacy: <b>276.82</b></p><p style='text-align:left;'>Weight: <b>285.32</b></p><p style='text-align:left;'>H-Acceptors: <b>3</b></p><p style='text-align:left;'>H-Donors: <b>0</b></p></td><td><h3 style='text-align:left;'>No targets found</h3></td><td></td><td></td><td></td><td></td></tr><tr><td><h2>75</h2></td><td style='border-right:3px solid #aaa;vertical-align:top;'><img class='zoom2' src='img/render_2888227_0.svg'></img><p style='text-align:left;'><b>2888227</b></p><p style='text-align:left;'>Score: <b>92</b></p><p style='text-align:left;'>Potency: <b>1.58</b></p><p style='text-align:left;'>Efficacy: <b>202.75</b></p><p style='text-align:left;'>Weight: <b>330.39</b></p><p style='text-align:left;'>H-Acceptors: <b>3</b></p><p style='text-align:left;'>H-Donors: <b>2</b></p></td><td style='vertical-align:top;'><img class='zoom2' src='img/render_2888227_1.svg'></img><p style='text-align:left;'>Similarity: <b>0.84375</b></p><p style='text-align:left;'>Target: <b>P-glycoprotein 1</b></p><p style='text-align:left;'>Ligands: <b>Homo sapiens (Human)</b></p></td><td style='vertical-align:top;'><img class='zoom2' src='img/render_2888227_2.svg'></img><p style='text-align:left;'>Similarity: <b>0.82745</b></p><p style='text-align:left;'>Target: <b>P-glycoprotein 1</b></p><p style='text-align:left;'>Ligands: <b>Homo sapiens (Human)</b></p></td><td></td><td></td><td></td></tr><tr><td><h2>76</h2></td><td style='border-right:3px solid #aaa;vertical-align:top;'><img class='zoom2' src='img/render_5152621_0.svg'></img><p style='text-align:left;'><b>5152621</b></p><p style='text-align:left;'>Score: <b>92</b></p><p style='text-align:left;'>Potency: <b>1.58</b></p><p style='text-align:left;'>Efficacy: <b>173.28</b></p><p style='text-align:left;'>Weight: <b>298.27</b></p><p style='text-align:left;'>H-Acceptors: <b>5</b></p><p style='text-align:left;'>H-Donors: <b>2</b></p></td><td><h3 style='text-align:left;'>No targets found</h3></td><td></td><td></td><td></td><td></td></tr><tr><td><h2>77</h2></td><td style='border-right:3px solid #aaa;vertical-align:top;'><img class='zoom2' src='img/render_17253146_0.svg'></img><p style='text-align:left;'><b>17253146</b></p><p style='text-align:left;'>Score: <b>92</b></p><p style='text-align:left;'>Potency: <b>2.00</b></p><p style='text-align:left;'>Efficacy: <b>190.59</b></p><p style='text-align:left;'>Weight: <b>286.33</b></p><p style='text-align:left;'>H-Acceptors: <b>4</b></p><p style='text-align:left;'>H-Donors: <b>2</b></p></td><td><h3 style='text-align:left;'>No targets found</h3></td><td></td><td></td><td></td><td></td></tr><tr><td><h2>78</h2></td><td style='border-right:3px solid #aaa;vertical-align:top;'><img class='zoom2' src='img/render_9580697_0.svg'></img><p style='text-align:left;'><b>9580697</b></p><p style='text-align:left;'>Score: <b>92</b></p><p style='text-align:left;'>Potency: <b>3.55</b></p><p style='text-align:left;'>Efficacy: <b>240.19</b></p><p style='text-align:left;'>Weight: <b>366.35</b></p><p style='text-align:left;'>H-Acceptors: <b>9</b></p><p style='text-align:left;'>H-Donors: <b>2</b></p></td><td><h3 style='text-align:left;'>No targets found</h3></td><td></td><td></td><td></td><td></td></tr><tr><td><h2>79</h2></td><td style='border-right:3px solid #aaa;vertical-align:top;'><img class='zoom2' src='img/render_1855553_0.svg'></img><p style='text-align:left;'><b>1855553</b></p><p style='text-align:left;'>Score: <b>92</b></p><p style='text-align:left;'>Potency: <b>2.24</b></p><p style='text-align:left;'>Efficacy: <b>210.81</b></p><p style='text-align:left;'>Weight: <b>330.42</b></p><p style='text-align:left;'>H-Acceptors: <b>4</b></p><p style='text-align:left;'>H-Donors: <b>2</b></p></td><td style='vertical-align:top;'><img class='zoom2' src='img/render_1855553_1.svg'></img><p style='text-align:left;'>Similarity: <b>0.95017</b></p><p style='text-align:left;'>Target: <b>Tumor necrosis factor (TNF-alpha)</b></p><p style='text-align:left;'>Ligands: <b>Homo sapiens (Human)</b></p></td><td style='vertical-align:top;'><img class='zoom2' src='img/render_1855553_2.svg'></img><p style='text-align:left;'>Similarity: <b>0.95017</b></p><p style='text-align:left;'>Target: <b>nucleotide-binding oligomerization domain containing 1</b></p><p style='text-align:left;'>Ligands: <b>Homo sapiens</b></p></td><td style='vertical-align:top;'><img class='zoom2' src='img/render_1855553_3.svg'></img><p style='text-align:left;'>Similarity: <b>0.95017</b></p><p style='text-align:left;'>Target: <b>Delta-type opioid receptor</b></p><p style='text-align:left;'>Ligands: <b>Homo sapiens (human)</b></p></td><td style='vertical-align:top;'><img class='zoom2' src='img/render_1855553_4.svg'></img><p style='text-align:left;'>Similarity: <b>0.95017</b></p><p style='text-align:left;'>Target: <b>SUMO/sentrin specific peptidase family member 8</b></p><p style='text-align:left;'>Ligands: <b>Homo sapiens</b></p></td><td style='vertical-align:top;'><img class='zoom2' src='img/render_1855553_5.svg'></img><p style='text-align:left;'>Similarity: <b>0.95017</b></p><p style='text-align:left;'>Target: <b>SUMO-1-specific protease</b></p><p style='text-align:left;'>Ligands: <b>Homo sapiens</b></p></td></tr><tr><td><h2>80</h2></td><td style='border-right:3px solid #aaa;vertical-align:top;'><img class='zoom2' src='img/render_1259542_0.svg'></img><p style='text-align:left;'><b>1259542</b></p><p style='text-align:left;'>Score: <b>92</b></p><p style='text-align:left;'>Potency: <b>0.89</b></p><p style='text-align:left;'>Efficacy: <b>107.63</b></p><p style='text-align:left;'>Weight: <b>363.19</b></p><p style='text-align:left;'>H-Acceptors: <b>5</b></p><p style='text-align:left;'>H-Donors: <b>0</b></p></td><td><h3 style='text-align:left;'>No targets found</h3></td><td></td><td></td><td></td><td></td></tr><tr><td><h2>81</h2></td><td style='border-right:3px solid #aaa;vertical-align:top;'><img class='zoom2' src='img/render_5336820_0.svg'></img><p style='text-align:left;'><b>5336820</b></p><p style='text-align:left;'>Score: <b>92</b></p><p style='text-align:left;'>Potency: <b>2.24</b></p><p style='text-align:left;'>Efficacy: <b>227.32</b></p><p style='text-align:left;'>Weight: <b>294.35</b></p><p style='text-align:left;'>H-Acceptors: <b>3</b></p><p style='text-align:left;'>H-Donors: <b>0</b></p></td><td><h3 style='text-align:left;'>No targets found</h3></td><td></td><td></td><td></td><td></td></tr><tr><td><h2>82</h2></td><td style='border-right:3px solid #aaa;vertical-align:top;'><img class='zoom2' src='img/render_2815883_0.svg'></img><p style='text-align:left;'><b>2815883</b></p><p style='text-align:left;'>Score: <b>92</b></p><p style='text-align:left;'>Potency: <b>2.82</b></p><p style='text-align:left;'>Efficacy: <b>234.62</b></p><p style='text-align:left;'>Weight: <b>372.39</b></p><p style='text-align:left;'>H-Acceptors: <b>6</b></p><p style='text-align:left;'>H-Donors: <b>0</b></p></td><td style='vertical-align:top;'><img class='zoom2' src='img/render_2815883_1.svg'></img><p style='text-align:left;'>Similarity: <b>1.0</b></p><p style='text-align:left;'>Target: <b>Nuclear factor NF-kappa-B</b></p><p style='text-align:left;'>Ligands: <b>Homo sapiens (Human)</b></p></td><td></td><td></td><td></td><td></td></tr><tr><td><h2>83</h2></td><td style='border-right:3px solid #aaa;vertical-align:top;'><img class='zoom2' src='img/render_725817_0.svg'></img><p style='text-align:left;'><b>725817</b></p><p style='text-align:left;'>Score: <b>92</b></p><p style='text-align:left;'>Potency: <b>1.41</b></p><p style='text-align:left;'>Efficacy: <b>182.92</b></p><p style='text-align:left;'>Weight: <b>254.28</b></p><p style='text-align:left;'>H-Acceptors: <b>3</b></p><p style='text-align:left;'>H-Donors: <b>0</b></p></td><td><h3 style='text-align:left;'>No targets found</h3></td><td></td><td></td><td></td><td></td></tr><tr><td><h2>84</h2></td><td style='border-right:3px solid #aaa;vertical-align:top;'><img class='zoom2' src='img/render_16398538_0.svg'></img><p style='text-align:left;'><b>16398538</b></p><p style='text-align:left;'>Score: <b>92</b></p><p style='text-align:left;'>Potency: <b>2.00</b></p><p style='text-align:left;'>Efficacy: <b>206.31</b></p><p style='text-align:left;'>Weight: <b>446.41</b></p><p style='text-align:left;'>H-Acceptors: <b>10</b></p><p style='text-align:left;'>H-Donors: <b>5</b></p></td><td style='vertical-align:top;'><img class='zoom2' src='img/render_16398538_1.svg'></img><p style='text-align:left;'>Similarity: <b>0.97518</b></p><p style='text-align:left;'>Target: <b>Interleukin-5</b></p><p style='text-align:left;'>Ligands: <b>Mus musculus</b></p></td><td style='vertical-align:top;'><img class='zoom2' src='img/render_16398538_2.svg'></img><p style='text-align:left;'>Similarity: <b>0.95876</b></p><p style='text-align:left;'>Target: <b>MER intracellular domain/EGFR extracellular domain chimera</b></p><p style='text-align:left;'>Ligands: <b>Homo sapiens (human)</b></p></td><td style='vertical-align:top;'><img class='zoom2' src='img/render_16398538_3.svg'></img><p style='text-align:left;'>Similarity: <b>0.95804</b></p><p style='text-align:left;'>Target: <b>Interleukin-2 (IL-2)</b></p><p style='text-align:left;'>Ligands: <b>Homo sapiens (Human)</b></p></td><td style='vertical-align:top;'><img class='zoom2' src='img/render_16398538_4.svg'></img><p style='text-align:left;'>Similarity: <b>0.95804</b></p><p style='text-align:left;'>Target: <b>Aldehyde dehydrogenase (ALDH2)</b></p><p style='text-align:left;'>Ligands: <b>Homo sapiens (Human)</b></p></td><td style='vertical-align:top;'><img class='zoom2' src='img/render_16398538_5.svg'></img><p style='text-align:left;'>Similarity: <b>0.95105</b></p><p style='text-align:left;'>Target: <b>Aldehyde dehydrogenase (ALDH2)</b></p><p style='text-align:left;'>Ligands: <b>Homo sapiens (Human)</b></p></td></tr><tr><td><h2>85</h2></td><td style='border-right:3px solid #aaa;vertical-align:top;'><img class='zoom2' src='img/render_1325823_0.svg'></img><p style='text-align:left;'><b>1325823</b></p><p style='text-align:left;'>Score: <b>92</b></p><p style='text-align:left;'>Potency: <b>3.16</b></p><p style='text-align:left;'>Efficacy: <b>236.39</b></p><p style='text-align:left;'>Weight: <b>400.05</b></p><p style='text-align:left;'>H-Acceptors: <b>4</b></p><p style='text-align:left;'>H-Donors: <b>0</b></p></td><td style='vertical-align:top;'><img class='zoom2' src='img/render_1325823_1.svg'></img><p style='text-align:left;'>Similarity: <b>1.0</b></p><p style='text-align:left;'>Target: <b>Sphingosine 1-phosphate receptor 1 (S1P1)</b></p><p style='text-align:left;'>Ligands: <b>Homo sapiens (Human)</b></p></td><td style='vertical-align:top;'><img class='zoom2' src='img/render_1325823_2.svg'></img><p style='text-align:left;'>Similarity: <b>1.0</b></p><p style='text-align:left;'>Target: <b>neutrophil cytosolic factor 1</b></p><p style='text-align:left;'>Ligands: <b>Homo sapiens</b></p></td><td style='vertical-align:top;'><img class='zoom2' src='img/render_1325823_3.svg'></img><p style='text-align:left;'>Similarity: <b>1.0</b></p><p style='text-align:left;'>Target: <b>BZLF2</b></p><p style='text-align:left;'>Ligands: <b>Human herpesvirus 4 type 2</b></p></td><td style='vertical-align:top;'><img class='zoom2' src='img/render_1325823_4.svg'></img><p style='text-align:left;'>Similarity: <b>0.95872</b></p><p style='text-align:left;'>Target: <b>TPA: Essential component of the Translocase of the Inner Mitochondrial membrane (TIM23 complex)</b></p><p style='text-align:left;'>Ligands: <b>Saccharomyces cerevisiae S288c</b></p></td><td style='vertical-align:top;'><img class='zoom2' src='img/render_1325823_5.svg'></img><p style='text-align:left;'>Similarity: <b>0.95872</b></p><p style='text-align:left;'>Target: <b>TPA: Essential protein of the mitochondrial intermembrane space</b></p><p style='text-align:left;'>Ligands: <b>Saccharomyces cerevisiae S288c</b></p></td></tr><tr><td><h2>86</h2></td><td style='border-right:3px solid #aaa;vertical-align:top;'><img class='zoom2' src='img/render_268099_0.svg'></img><p style='text-align:left;'><b>268099</b></p><p style='text-align:left;'>Score: <b>92</b></p><p style='text-align:left;'>Potency: <b>3.16</b></p><p style='text-align:left;'>Efficacy: <b>237.69</b></p><p style='text-align:left;'>Weight: <b>264.33</b></p><p style='text-align:left;'>H-Acceptors: <b>2</b></p><p style='text-align:left;'>H-Donors: <b>1</b></p></td><td style='vertical-align:top;'><img class='zoom2' src='img/render_268099_1.svg'></img><p style='text-align:left;'>Similarity: <b>0.96279</b></p><p style='text-align:left;'>Target: <b>Metabotropic glutamate receptor 2 (mGluR2)</b></p><p style='text-align:left;'>Ligands: <b>Homo sapiens (Human)</b></p></td><td style='vertical-align:top;'><img class='zoom2' src='img/render_268099_2.svg'></img><p style='text-align:left;'>Similarity: <b>0.86611</b></p><p style='text-align:left;'>Target: <b>Metabotropic glutamate receptor 2 (mGluR2)</b></p><p style='text-align:left;'>Ligands: <b>Homo sapiens (Human)</b></p></td><td style='vertical-align:top;'><img class='zoom2' src='img/render_268099_3.svg'></img><p style='text-align:left;'>Similarity: <b>0.85185</b></p><p style='text-align:left;'>Target: <b>Metabotropic glutamate receptor 2 (mGluR2)</b></p><p style='text-align:left;'>Ligands: <b>Homo sapiens (Human)</b></p></td><td style='vertical-align:top;'><img class='zoom2' src='img/render_268099_4.svg'></img><p style='text-align:left;'>Similarity: <b>0.8449</b></p><p style='text-align:left;'>Target: <b>Metabotropic glutamate receptor 2 (mGluR2)</b></p><p style='text-align:left;'>Ligands: <b>Homo sapiens (Human)</b></p></td><td style='vertical-align:top;'><img class='zoom2' src='img/render_268099_5.svg'></img><p style='text-align:left;'>Similarity: <b>0.8247</b></p><p style='text-align:left;'>Target: <b>Metabotropic glutamate receptor 2 (mGluR2)</b></p><p style='text-align:left;'>Ligands: <b>Homo sapiens (Human)</b></p></td></tr><tr><td><h2>87</h2></td><td style='border-right:3px solid #aaa;vertical-align:top;'><img class='zoom2' src='img/render_659828_0.svg'></img><p style='text-align:left;'><b>659828</b></p><p style='text-align:left;'>Score: <b>92</b></p><p style='text-align:left;'>Potency: <b>2.82</b></p><p style='text-align:left;'>Efficacy: <b>229.07</b></p><p style='text-align:left;'>Weight: <b>337.30</b></p><p style='text-align:left;'>H-Acceptors: <b>6</b></p><p style='text-align:left;'>H-Donors: <b>0</b></p></td><td style='vertical-align:top;'><img class='zoom2' src='img/render_659828_1.svg'></img><p style='text-align:left;'>Similarity: <b>1.0</b></p><p style='text-align:left;'>Target: <b>Nuclear factor NF-kappa-B</b></p><p style='text-align:left;'>Ligands: <b>Homo sapiens (Human)</b></p></td><td style='vertical-align:top;'><img class='zoom2' src='img/render_659828_2.svg'></img><p style='text-align:left;'>Similarity: <b>0.86475</b></p><p style='text-align:left;'>Target: <b>endothelial PAS domain-containing protein 1</b></p><p style='text-align:left;'>Ligands: <b>Homo sapiens</b></p></td><td></td><td></td><td></td></tr><tr><td><h2>88</h2></td><td style='border-right:3px solid #aaa;vertical-align:top;'><img class='zoom2' src='img/render_1366257_0.svg'></img><p style='text-align:left;'><b>1366257</b></p><p style='text-align:left;'>Score: <b>92</b></p><p style='text-align:left;'>Potency: <b>1.00</b></p><p style='text-align:left;'>Efficacy: <b>144.81</b></p><p style='text-align:left;'>Weight: <b>400.28</b></p><p style='text-align:left;'>H-Acceptors: <b>4</b></p><p style='text-align:left;'>H-Donors: <b>1</b></p></td><td><h3 style='text-align:left;'>No targets found</h3></td><td></td><td></td><td></td><td></td></tr><tr><td><h2>89</h2></td><td style='border-right:3px solid #aaa;vertical-align:top;'><img class='zoom2' src='img/render_2113176_0.svg'></img><p style='text-align:left;'><b>2113176</b></p><p style='text-align:left;'>Score: <b>92</b></p><p style='text-align:left;'>Potency: <b>3.98</b></p><p style='text-align:left;'>Efficacy: <b>253.85</b></p><p style='text-align:left;'>Weight: <b>322.39</b></p><p style='text-align:left;'>H-Acceptors: <b>3</b></p><p style='text-align:left;'>H-Donors: <b>2</b></p></td><td><h3 style='text-align:left;'>No targets found</h3></td><td></td><td></td><td></td><td></td></tr><tr><td><h2>90</h2></td><td style='border-right:3px solid #aaa;vertical-align:top;'><img class='zoom2' src='img/render_49789438_0.svg'></img><p style='text-align:left;'><b>49789438</b></p><p style='text-align:left;'>Score: <b>92</b></p><p style='text-align:left;'>Potency: <b>1.00</b></p><p style='text-align:left;'>Efficacy: <b>135.44</b></p><p style='text-align:left;'>Weight: <b>315.32</b></p><p style='text-align:left;'>H-Acceptors: <b>4</b></p><p style='text-align:left;'>H-Donors: <b>1</b></p></td><td style='vertical-align:top;'><img class='zoom2' src='img/render_49789438_1.svg'></img><p style='text-align:left;'>Similarity: <b>0.81176</b></p><p style='text-align:left;'>Target: <b>SKiNhead family member (skn-1)</b></p><p style='text-align:left;'>Ligands: <b>Caenorhabditis elegans</b></p></td><td></td><td></td><td></td><td></td></tr><tr><td><h2>91</h2></td><td style='border-right:3px solid #aaa;vertical-align:top;'><img class='zoom2' src='img/render_49790479_0.svg'></img><p style='text-align:left;'><b>49790479</b></p><p style='text-align:left;'>Score: <b>92</b></p><p style='text-align:left;'>Potency: <b>3.16</b></p><p style='text-align:left;'>Efficacy: <b>228.16</b></p><p style='text-align:left;'>Weight: <b>405.43</b></p><p style='text-align:left;'>H-Acceptors: <b>10</b></p><p style='text-align:left;'>H-Donors: <b>2</b></p></td><td style='vertical-align:top;'><img class='zoom2' src='img/render_49790479_1.svg'></img><p style='text-align:left;'>Similarity: <b>0.80907</b></p><p style='text-align:left;'>Target: <b>nuclear receptor subfamily 0 group B member 1</b></p><p style='text-align:left;'>Ligands: <b>Homo sapiens</b></p></td><td style='vertical-align:top;'><img class='zoom2' src='img/render_49790479_2.svg'></img><p style='text-align:left;'>Similarity: <b>0.80907</b></p><p style='text-align:left;'>Target: <b>Steroidogenic Factor 1</b></p><p style='text-align:left;'>Ligands: <b>Homo sapiens (human)</b></p></td><td></td><td></td><td></td></tr><tr><td><h2>92</h2></td><td style='border-right:3px solid #aaa;vertical-align:top;'><img class='zoom2' src='img/render_1093410_0.svg'></img><p style='text-align:left;'><b>1093410</b></p><p style='text-align:left;'>Score: <b>92</b></p><p style='text-align:left;'>Potency: <b>2.51</b></p><p style='text-align:left;'>Efficacy: <b>236.17</b></p><p style='text-align:left;'>Weight: <b>357.43</b></p><p style='text-align:left;'>H-Acceptors: <b>6</b></p><p style='text-align:left;'>H-Donors: <b>2</b></p></td><td style='vertical-align:top;'><img class='zoom2' src='img/render_1093410_1.svg'></img><p style='text-align:left;'>Similarity: <b>0.85901</b></p><p style='text-align:left;'>Target: <b>Delta-type opioid receptor</b></p><p style='text-align:left;'>Ligands: <b>Homo sapiens (human)</b></p></td><td></td><td></td><td></td><td></td></tr><tr><td><h2>93</h2></td><td style='border-right:3px solid #aaa;vertical-align:top;'><img class='zoom2' src='img/render_2966237_0.svg'></img><p style='text-align:left;'><b>2966237</b></p><p style='text-align:left;'>Score: <b>92</b></p><p style='text-align:left;'>Potency: <b>2.00</b></p><p style='text-align:left;'>Efficacy: <b>208.92</b></p><p style='text-align:left;'>Weight: <b>387.35</b></p><p style='text-align:left;'>H-Acceptors: <b>8</b></p><p style='text-align:left;'>H-Donors: <b>2</b></p></td><td style='vertical-align:top;'><img class='zoom2' src='img/render_2966237_1.svg'></img><p style='text-align:left;'>Similarity: <b>0.96774</b></p><p style='text-align:left;'>Target: <b>STAT3</b></p><p style='text-align:left;'>Ligands: <b>Homo sapiens</b></p></td><td></td><td></td><td></td><td></td></tr><tr><td><h2>94</h2></td><td style='border-right:3px solid #aaa;vertical-align:top;'><img class='zoom2' src='img/render_5340604_0.svg'></img><p style='text-align:left;'><b>5340604</b></p><p style='text-align:left;'>Score: <b>92</b></p><p style='text-align:left;'>Potency: <b>2.82</b></p><p style='text-align:left;'>Efficacy: <b>220.32</b></p><p style='text-align:left;'>Weight: <b>205.26</b></p><p style='text-align:left;'>H-Acceptors: <b>3</b></p><p style='text-align:left;'>H-Donors: <b>1</b></p></td><td><h3 style='text-align:left;'>No targets found</h3></td><td></td><td></td><td></td><td></td></tr><tr><td><h2>95</h2></td><td style='border-right:3px solid #aaa;vertical-align:top;'><img class='zoom2' src='img/render_5971819_0.svg'></img><p style='text-align:left;'><b>5971819</b></p><p style='text-align:left;'>Score: <b>92</b></p><p style='text-align:left;'>Potency: <b>3.16</b></p><p style='text-align:left;'>Efficacy: <b>236.68</b></p><p style='text-align:left;'>Weight: <b>301.36</b></p><p style='text-align:left;'>H-Acceptors: <b>4</b></p><p style='text-align:left;'>H-Donors: <b>3</b></p></td><td><h3 style='text-align:left;'>No targets found</h3></td><td></td><td></td><td></td><td></td></tr><tr><td><h2>96</h2></td><td style='border-right:3px solid #aaa;vertical-align:top;'><img class='zoom2' src='img/render_4093356_0.svg'></img><p style='text-align:left;'><b>4093356</b></p><p style='text-align:left;'>Score: <b>92</b></p><p style='text-align:left;'>Potency: <b>2.82</b></p><p style='text-align:left;'>Efficacy: <b>214.43</b></p><p style='text-align:left;'>Weight: <b>322.38</b></p><p style='text-align:left;'>H-Acceptors: <b>4</b></p><p style='text-align:left;'>H-Donors: <b>1</b></p></td><td style='vertical-align:top;'><img class='zoom2' src='img/render_4093356_1.svg'></img><p style='text-align:left;'>Similarity: <b>0.88997</b></p><p style='text-align:left;'>Target: <b>Adenosine receptor A2b</b></p><p style='text-align:left;'>Ligands: <b>Homo sapiens (Human)</b></p></td><td style='vertical-align:top;'><img class='zoom2' src='img/render_4093356_2.svg'></img><p style='text-align:left;'>Similarity: <b>0.88997</b></p><p style='text-align:left;'>Target: <b>Adenosine receptor A3</b></p><p style='text-align:left;'>Ligands: <b>Homo sapiens (human)</b></p></td><td style='vertical-align:top;'><img class='zoom2' src='img/render_4093356_3.svg'></img><p style='text-align:left;'>Similarity: <b>0.88997</b></p><p style='text-align:left;'>Target: <b>Adenosine receptor A1</b></p><p style='text-align:left;'>Ligands: <b>Rattus norvegicus (rat)</b></p></td><td style='vertical-align:top;'><img class='zoom2' src='img/render_4093356_4.svg'></img><p style='text-align:left;'>Similarity: <b>0.88997</b></p><p style='text-align:left;'>Target: <b>Adenosine Receptors A2a (A2a)</b></p><p style='text-align:left;'>Ligands: <b>Rattus norvegicus (rat)</b></p></td><td style='vertical-align:top;'><img class='zoom2' src='img/render_4093356_5.svg'></img><p style='text-align:left;'>Similarity: <b>0.8758</b></p><p style='text-align:left;'>Target: <b>Adenosine receptor A2b</b></p><p style='text-align:left;'>Ligands: <b>Homo sapiens (Human)</b></p></td></tr><tr><td><h2>97</h2></td><td style='border-right:3px solid #aaa;vertical-align:top;'><img class='zoom2' src='img/render_2188596_0.svg'></img><p style='text-align:left;'><b>2188596</b></p><p style='text-align:left;'>Score: <b>92</b></p><p style='text-align:left;'>Potency: <b>1.78</b></p><p style='text-align:left;'>Efficacy: <b>194.71</b></p><p style='text-align:left;'>Weight: <b>248.34</b></p><p style='text-align:left;'>H-Acceptors: <b>4</b></p><p style='text-align:left;'>H-Donors: <b>0</b></p></td><td style='vertical-align:top;'><img class='zoom2' src='img/render_2188596_1.svg'></img><p style='text-align:left;'>Similarity: <b>1.0</b></p><p style='text-align:left;'>Target: <b>Glucocerebrosidase (Acid beta-Glucosidase)</b></p><p style='text-align:left;'>Ligands: <b>Homo sapiens (human)</b></p></td><td style='vertical-align:top;'><img class='zoom2' src='img/render_2188596_2.svg'></img><p style='text-align:left;'>Similarity: <b>0.79902</b></p><p style='text-align:left;'>Target: <b>Sphingosine 1-phosphate receptor 1 (S1P1)</b></p><p style='text-align:left;'>Ligands: <b>Homo sapiens (Human)</b></p></td><td style='vertical-align:top;'><img class='zoom2' src='img/render_2188596_3.svg'></img><p style='text-align:left;'>Similarity: <b>0.73333</b></p><p style='text-align:left;'>Target: <b>MER intracellular domain/EGFR extracellular domain chimera</b></p><p style='text-align:left;'>Ligands: <b>Homo sapiens (human)</b></p></td><td></td><td></td></tr><tr><td><h2>98</h2></td><td style='border-right:3px solid #aaa;vertical-align:top;'><img class='zoom2' src='img/render_1474957_0.svg'></img><p style='text-align:left;'><b>1474957</b></p><p style='text-align:left;'>Score: <b>92</b></p><p style='text-align:left;'>Potency: <b>1.41</b></p><p style='text-align:left;'>Efficacy: <b>186.49</b></p><p style='text-align:left;'>Weight: <b>396.67</b></p><p style='text-align:left;'>H-Acceptors: <b>4</b></p><p style='text-align:left;'>H-Donors: <b>0</b></p></td><td><h3 style='text-align:left;'>No targets found</h3></td><td></td><td></td><td></td><td></td></tr><tr><td><h2>99</h2></td><td style='border-right:3px solid #aaa;vertical-align:top;'><img class='zoom2' src='img/render_678808_0.svg'></img><p style='text-align:left;'><b>678808</b></p><p style='text-align:left;'>Score: <b>92</b></p><p style='text-align:left;'>Potency: <b>2.00</b></p><p style='text-align:left;'>Efficacy: <b>222.49</b></p><p style='text-align:left;'>Weight: <b>290.43</b></p><p style='text-align:left;'>H-Acceptors: <b>2</b></p><p style='text-align:left;'>H-Donors: <b>2</b></p></td><td><h3 style='text-align:left;'>No targets found</h3></td><td></td><td></td><td></td><td></td></tr></table>\n",
       "<style>\n",
       ".zoom2 {\n",
       "    transition: all 0.3s;\n",
       "    border: 1px solid #fff;\n",
       "}\n",
       ".zoom2:hover {\n",
       "    transform:scale(1.5);\n",
       "    border-color: #aaa;\n",
       "}\n",
       "</style>\n"
      ],
      "text/plain": [
       "<IPython.core.display.HTML object>"
      ]
     },
     "metadata": {},
     "output_type": "display_data"
    }
   ],
   "source": [
    "def mol_or_none(smiles):\n",
    "    if smiles != '':\n",
    "        return Chem.MolFromSmiles(smiles)\n",
    "    else:\n",
    "        return None\n",
    "\n",
    "def fetch_molecule_and_related(row):\n",
    "    sm = mol_or_none(row['smiles'])\n",
    "    t1 = mol_or_none(row['t_ligand_1'])\n",
    "    t2 = mol_or_none(row['t_ligand_2'])\n",
    "    t3 = mol_or_none(row['t_ligand_3'])\n",
    "    t4 = mol_or_none(row['t_ligand_4'])\n",
    "    t5 = mol_or_none(row['t_ligand_5'])\n",
    "    \n",
    "    return [sm,t1,t2,t3,t4,t5]\n",
    "    \n",
    "def get_highlight(mols):\n",
    "    highlight = [[]]\n",
    "    \n",
    "    for i in range(1,6):\n",
    "        if mols[i] != None:\n",
    "            match = rdFMCS.FindMCS([mols[i], mols[0]])\n",
    "            match_c = Chem.MolFromSmarts(match.smartsString)\n",
    "            highlight.append(mols[i].GetSubstructMatch(match_c))\n",
    "        else:\n",
    "            highlight.append([])\n",
    "    \n",
    "    return highlight\n",
    "\n",
    "def write_svg_image(mol, highlight, fpath):\n",
    "    drawer = rdMolDraw2D.MolDraw2DSVG(400,400)\n",
    "    rdDepictor.Compute2DCoords(mol)\n",
    "    drawer.DrawMolecule(mol, highlightAtoms=highlight)\n",
    "    drawer.FinishDrawing()\n",
    "    svg = drawer.GetDrawingText()\n",
    "\n",
    "    open(fpath, 'w').write(svg)\n",
    "        \n",
    "def display_row(row, idx):\n",
    "    # load and render ligand moleculse\n",
    "    mols = fetch_molecule_and_related(row)\n",
    "    highlight = get_highlight(mols)    \n",
    "    \n",
    "    num = len(filter(lambda k: k is not None, mols))\n",
    "    \n",
    "    # save images\n",
    "    for i in range(num):\n",
    "        fpath = 'img/render_%d_%d.svg' % (row['cid'], i)\n",
    "        write_svg_image(mols[i], highlight[i], fpath)\n",
    "    \n",
    "    s = ''\n",
    "    \n",
    "    s += \"<tr>\"\n",
    "    \n",
    "    s += \"<td><h2>%d</h2></td>\" % (idx)\n",
    "    \n",
    "    s += \"<td style='border-right:3px solid #aaa;vertical-align:top;'>\"\n",
    "    s += \"<img class='zoom2' src='img/render_%d_0.svg'></img>\" % (row['cid'])\n",
    "    s += \"<p style='text-align:left;'><b>%d</b></p>\" % row['cid']\n",
    "    s += \"<p style='text-align:left;'>Score: <b>%d</b></p>\" % row['score']\n",
    "    s += \"<p style='text-align:left;'>Potency: <b>%.2f</b></p>\" % row['potency']\n",
    "    s += \"<p style='text-align:left;'>Efficacy: <b>%.2f</b></p>\" % row['efficacy']\n",
    "    s += \"<p style='text-align:left;'>Weight: <b>%.2f</b></p>\" % row['weight']\n",
    "    s += \"<p style='text-align:left;'>H-Acceptors: <b>%d</b></p>\" % row['h_acceptor']\n",
    "    s += \"<p style='text-align:left;'>H-Donors: <b>%d</b></p>\" % row['h_donor']\n",
    "    s += \"</td>\"\n",
    "    \n",
    "    if row['t_target_1'] == '':\n",
    "        s += \"<td>\"\n",
    "        s += \"<h3 style='text-align:left;'>No targets found</h3>\"\n",
    "        s += \"</td>\"\n",
    "        s += \"<td></td>\" * 4\n",
    "    else:\n",
    "        for i in range(1,6):\n",
    "            if i < num:\n",
    "                s += \"<td style='vertical-align:top;'>\"\n",
    "                s += \"<img class='zoom2' src='img/render_%d_%d.svg'></img>\" % (row['cid'], i)\n",
    "                s += \"<p style='text-align:left;'>Similarity: <b>%s</b></p>\" % row['t_tanimoto_' + str(i)]\n",
    "                s += \"<p style='text-align:left;'>Target: <b>%s</b></p>\" % row['t_target_' + str(i)]\n",
    "                s += \"<p style='text-align:left;'>Ligands: <b>%s</b></p>\" % row['t_species_' + str(i)]\n",
    "                s += \"</td>\"\n",
    "            else:\n",
    "                s += \"<td></td>\"\n",
    "        \n",
    "    s += \"</tr>\"\n",
    "        \n",
    "    return s\n",
    "    \n",
    "    \n",
    "s = ''\n",
    "s += \"<table style='border: 3px solid #aaa;'>\"\n",
    "\n",
    "s += \"<tr>\"\n",
    "s += \"<td style='border-bottom: 3px solid #aaa; text-align:center;' colspan=2><h2>Compound</h2></td>\"\n",
    "s += \"<td style='border-bottom: 3px solid #aaa; text-align:center;' colspan=5><h2>Ligands</h2></td>\"\n",
    "s += \"</tr>\"\n",
    "\n",
    "for i in range(100):\n",
    "    s += display_row(brca1_top_binding.iloc[i], i)\n",
    "\n",
    "s += \"</table>\"\n",
    "\n",
    "s += \"\"\"\n",
    "<style>\n",
    ".zoom2 {\n",
    "    transition: all 0.3s;\n",
    "    border: 1px solid #fff;\n",
    "}\n",
    ".zoom2:hover {\n",
    "    transform:scale(1.5);\n",
    "    border-color: #aaa;\n",
    "}\n",
    "</style>\n",
    "\"\"\"\n",
    "\n",
    "display(HTML(s))"
   ]
  },
  {
   "cell_type": "markdown",
   "metadata": {},
   "source": [
    "## Lipinski's Rule\n",
    "\n",
    "Additionally, we can calculate whether these molecules satisfy Lipinski's rule of five for a viable oral drug. A molecule satisfies these rules if it contains no more than one exception to the following conditions:\n",
    "\n",
    "* no more than 5 hydrogen bond donors\n",
    "* no more than 10 hydrogen bond acceptors\n",
    "* a molecular mass less than 500 daltons\n",
    "* an octanol-water partitian coefficient no greater than 5"
   ]
  },
  {
   "cell_type": "code",
   "execution_count": 18,
   "metadata": {},
   "outputs": [],
   "source": [
    "def satisfies_lipinski(h_donors, h_acceptors, mass, logp):\n",
    "    r1 = h_donors <= 5\n",
    "    r2 = h_acceptors <= 10\n",
    "    r3 = mass < 500\n",
    "    r4 = logp < 5\n",
    "    \n",
    "    return sum([r1,r2,r3,r4]) >= 3"
   ]
  },
  {
   "cell_type": "code",
   "execution_count": 19,
   "metadata": {},
   "outputs": [],
   "source": [
    "brca1_lipinski = pd.DataFrame(columns=['lipinski'])\n",
    "\n",
    "for idx, row in brca1_top_binding.iterrows():\n",
    "    brca1_lipinski.loc[idx] = satisfies_lipinski(row['h_donor'], row['h_acceptor'], row['weight'], row['xlogp'])\n",
    "\n",
    "brca1_top_lipinski = brca1_top_binding.join(brca1_lipinski)"
   ]
  },
  {
   "cell_type": "markdown",
   "metadata": {},
   "source": [
    "## Filtering\n",
    "\n",
    "Let's keep only molecules that don't have any known targets."
   ]
  },
  {
   "cell_type": "code",
   "execution_count": 20,
   "metadata": {},
   "outputs": [
    {
     "name": "stdout",
     "output_type": "stream",
     "text": [
      "65\n"
     ]
    }
   ],
   "source": [
    "brca1_filter = brca1_top_lipinski[brca1_top_lipinski['exact_targets'] == 0]\n",
    "print len(brca1_filter)"
   ]
  },
  {
   "cell_type": "markdown",
   "metadata": {},
   "source": [
    "Now let's filter out molecules that don't satisfy the Lipinski rule."
   ]
  },
  {
   "cell_type": "code",
   "execution_count": 21,
   "metadata": {},
   "outputs": [
    {
     "name": "stdout",
     "output_type": "stream",
     "text": [
      "65\n"
     ]
    }
   ],
   "source": [
    "brca1_filter = brca1_filter[brca1_filter['lipinski']]\n",
    "print len(brca1_filter)"
   ]
  },
  {
   "cell_type": "markdown",
   "metadata": {},
   "source": [
    "There was no size change, so all the molecules satisfy the rule.\n",
    "\n",
    "Now, let's filter out molecules with a similar structure to molecules that target human compounds."
   ]
  },
  {
   "cell_type": "code",
   "execution_count": 22,
   "metadata": {},
   "outputs": [
    {
     "name": "stdout",
     "output_type": "stream",
     "text": [
      "29\n"
     ]
    }
   ],
   "source": [
    "brca1_filter = brca1_filter[brca1_filter['closest_target_human'] > 0]\n",
    "print len(brca1_filter)"
   ]
  },
  {
   "cell_type": "markdown",
   "metadata": {},
   "source": [
    "We are left with 29 out of the top 100 molecules. Let's visualize them."
   ]
  },
  {
   "cell_type": "code",
   "execution_count": 23,
   "metadata": {},
   "outputs": [
    {
     "data": {
      "text/html": [
       "<img class='zoom1' style='width:20%;display:inline-block;' src='img/render_990823.svg'/><img class='zoom1' style='width:20%;display:inline-block;' src='img/render_977500.svg'/><img class='zoom1' style='width:20%;display:inline-block;' src='img/render_15987509.svg'/><img class='zoom1' style='width:20%;display:inline-block;' src='img/render_2150868.svg'/><img class='zoom1' style='width:20%;display:inline-block;' src='img/render_5054584.svg'/><img class='zoom1' style='width:20%;display:inline-block;' src='img/render_2940041.svg'/><img class='zoom1' style='width:20%;display:inline-block;' src='img/render_44475983.svg'/><img class='zoom1' style='width:20%;display:inline-block;' src='img/render_2813569.svg'/><img class='zoom1' style='width:20%;display:inline-block;' src='img/render_647044.svg'/><img class='zoom1' style='width:20%;display:inline-block;' src='img/render_2999803.svg'/><img class='zoom1' style='width:20%;display:inline-block;' src='img/render_843396.svg'/><img class='zoom1' style='width:20%;display:inline-block;' src='img/render_2447522.svg'/><img class='zoom1' style='width:20%;display:inline-block;' src='img/render_3525081.svg'/><img class='zoom1' style='width:20%;display:inline-block;' src='img/render_5173595.svg'/><img class='zoom1' style='width:20%;display:inline-block;' src='img/render_4042008.svg'/><img class='zoom1' style='width:20%;display:inline-block;' src='img/render_721034.svg'/><img class='zoom1' style='width:20%;display:inline-block;' src='img/render_885337.svg'/><img class='zoom1' style='width:20%;display:inline-block;' src='img/render_341156.svg'/><img class='zoom1' style='width:20%;display:inline-block;' src='img/render_3241419.svg'/><img class='zoom1' style='width:20%;display:inline-block;' src='img/render_4201998.svg'/><img class='zoom1' style='width:20%;display:inline-block;' src='img/render_16745782.svg'/><img class='zoom1' style='width:20%;display:inline-block;' src='img/render_2888227.svg'/><img class='zoom1' style='width:20%;display:inline-block;' src='img/render_1855553.svg'/><img class='zoom1' style='width:20%;display:inline-block;' src='img/render_16398538.svg'/><img class='zoom1' style='width:20%;display:inline-block;' src='img/render_268099.svg'/><img class='zoom1' style='width:20%;display:inline-block;' src='img/render_49790479.svg'/><img class='zoom1' style='width:20%;display:inline-block;' src='img/render_1093410.svg'/><img class='zoom1' style='width:20%;display:inline-block;' src='img/render_2966237.svg'/><img class='zoom1' style='width:20%;display:inline-block;' src='img/render_4093356.svg'/>\n",
       "    <style>\n",
       "    .zoom1 {\n",
       "        transition: all 0.3s;\n",
       "        border: 1px solid #fff;\n",
       "    }\n",
       "    .zoom1:hover {\n",
       "        transform:scale(1.5);\n",
       "        border-color: #aaa;\n",
       "    }\n",
       "    </style>\n",
       "    "
      ],
      "text/plain": [
       "<IPython.core.display.HTML object>"
      ]
     },
     "metadata": {},
     "output_type": "display_data"
    }
   ],
   "source": [
    "display_molecules(brca1_filter, width='20%', scale='1.5')"
   ]
  },
  {
   "cell_type": "markdown",
   "metadata": {},
   "source": [
    "At first glance, it looks like there is quite a bit of diversity in these molecules.\n",
    "\n",
    "We will pick the top ten compounds and clean up the information a bit:"
   ]
  },
  {
   "cell_type": "code",
   "execution_count": 24,
   "metadata": {},
   "outputs": [
    {
     "name": "stdout",
     "output_type": "stream",
     "text": [
      "                                                 smiles   weight h_acceptor  \\\n",
      "3782         C1CN(CCC1C(=O)N)C2=NC(=CS2)C3=CC=C(C=C3)Br  366.277          4   \n",
      "2772             COC1=CC=C(C=C1)NC(=O)NC(=O)C2=CC=CC=C2  270.288          3   \n",
      "1639  CC1=CC=C(C=C1)OCC(=O)NC2=CC=C(C=C2)C3=NC4=C(O3...  372.424          4   \n",
      "2107  CC1=C2C(=C(C=C1)OC)N(C(=NC(=O)C3=CC=C(C=C3)C(=...  354.424          4   \n",
      "3301        C1COCCN1C(=O)C2=NOC(=C2)C3=CC(=C(C=C3)Cl)Cl  327.161          4   \n",
      "618      CC1CN(CC(O1)C)C2=NC=NC3=C2C=NN3C4=CC=C(C=C4)Cl  343.815          5   \n",
      "3705  CN1C(=CC2=C(C1=O)C(=NO2)C3=C(C=CC=C3Cl)F)C4=CC...  372.756          5   \n",
      "2592  C1COC2=C(O1)C=CC(=C2)C(=O)COC3=NC=NC4=C3C=CC(=...  356.762          6   \n",
      "22               C1=CC=C(C(=C1)CSC2=NN=C(O2)C3=CC=CS3)F  292.346          6   \n",
      "268   C1CCCC2(CC1)C(=O)N(C(=O)N2)CC(=O)C3=CC4=C(C=C3...  358.394          5   \n",
      "\n",
      "     h_donor xlogp  score  potency  efficacy  \n",
      "3782       1   3.1     99   1.7783   310.519  \n",
      "2772       2   3.4     99   1.1220   235.957  \n",
      "1639       1     5     98   0.8913   242.718  \n",
      "2107       0   3.6     98   0.7943   160.406  \n",
      "3301       0   2.7     98   1.2589   268.722  \n",
      "618        0   3.4     97   3.1623   325.651  \n",
      "3705       0   4.1     95   1.9953   252.856  \n",
      "2592       0   3.6     94   1.7783   239.930  \n",
      "22         0   3.6     94   3.9811   299.835  \n",
      "268        1   2.4     94   2.8184   255.341  \n"
     ]
    }
   ],
   "source": [
    "brca1_final = brca1_filter.iloc[:10][['smiles', 'weight', 'h_acceptor', 'h_donor', 'xlogp', 'score', 'potency', 'efficacy']]\n",
    "brca1_final.to_csv('data/final.csv', index=False)\n",
    "print brca1_final"
   ]
  }
 ],
 "metadata": {
  "kernelspec": {
   "display_name": "rdkit",
   "language": "python",
   "name": "rdkit"
  },
  "language_info": {
   "codemirror_mode": {
    "name": "ipython",
    "version": 2
   },
   "file_extension": ".py",
   "mimetype": "text/x-python",
   "name": "python",
   "nbconvert_exporter": "python",
   "pygments_lexer": "ipython2",
   "version": "2.7.13"
  }
 },
 "nbformat": 4,
 "nbformat_minor": 2
}
